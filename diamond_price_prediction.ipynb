{
 "cells": [
  {
   "cell_type": "code",
   "execution_count": 1,
   "id": "aacd2391",
   "metadata": {},
   "outputs": [],
   "source": [
    "import pandas as pd\n",
    "import matplotlib.pyplot as plt\n",
    "import numpy as np\n",
    "\n",
    "import pickle\n",
    "\n",
    "from sklearn.model_selection import train_test_split\n",
    "\n",
    "from sklearn.linear_model import LinearRegression\n",
    "from sklearn.feature_extraction import DictVectorizer\n",
    "\n",
    "from sklearn.metrics import mean_squared_error"
   ]
  },
  {
   "attachments": {},
   "cell_type": "markdown",
   "id": "87b18015",
   "metadata": {},
   "source": []
  },
  {
   "cell_type": "code",
   "execution_count": 2,
   "id": "ac5fc400",
   "metadata": {},
   "outputs": [
    {
     "name": "stdout",
     "output_type": "stream",
     "text": [
      "1.2.2\n"
     ]
    }
   ],
   "source": [
    "import sklearn\n",
    "print(sklearn.__version__)"
   ]
  },
  {
   "cell_type": "code",
   "execution_count": 3,
   "id": "790215bd",
   "metadata": {},
   "outputs": [
    {
     "name": "stdout",
     "output_type": "stream",
     "text": [
      "Python 3.10.12\n"
     ]
    }
   ],
   "source": [
    "!python --version"
   ]
  },
  {
   "cell_type": "code",
   "execution_count": 4,
   "id": "fa92ee99",
   "metadata": {},
   "outputs": [],
   "source": [
    "df = pd.read_csv('diamonds.csv')"
   ]
  },
  {
   "cell_type": "code",
   "execution_count": 5,
   "id": "8ba2122b",
   "metadata": {},
   "outputs": [
    {
     "data": {
      "text/html": [
       "<div>\n",
       "<style scoped>\n",
       "    .dataframe tbody tr th:only-of-type {\n",
       "        vertical-align: middle;\n",
       "    }\n",
       "\n",
       "    .dataframe tbody tr th {\n",
       "        vertical-align: top;\n",
       "    }\n",
       "\n",
       "    .dataframe thead th {\n",
       "        text-align: right;\n",
       "    }\n",
       "</style>\n",
       "<table border=\"1\" class=\"dataframe\">\n",
       "  <thead>\n",
       "    <tr style=\"text-align: right;\">\n",
       "      <th></th>\n",
       "      <th>carat</th>\n",
       "      <th>cut</th>\n",
       "      <th>color</th>\n",
       "      <th>clarity</th>\n",
       "      <th>depth</th>\n",
       "      <th>table</th>\n",
       "      <th>price</th>\n",
       "      <th>x</th>\n",
       "      <th>y</th>\n",
       "      <th>z</th>\n",
       "    </tr>\n",
       "  </thead>\n",
       "  <tbody>\n",
       "    <tr>\n",
       "      <th>0</th>\n",
       "      <td>0.23</td>\n",
       "      <td>Ideal</td>\n",
       "      <td>E</td>\n",
       "      <td>SI2</td>\n",
       "      <td>61.5</td>\n",
       "      <td>55.0</td>\n",
       "      <td>326</td>\n",
       "      <td>3.95</td>\n",
       "      <td>3.98</td>\n",
       "      <td>2.43</td>\n",
       "    </tr>\n",
       "    <tr>\n",
       "      <th>1</th>\n",
       "      <td>0.21</td>\n",
       "      <td>Premium</td>\n",
       "      <td>E</td>\n",
       "      <td>SI1</td>\n",
       "      <td>59.8</td>\n",
       "      <td>61.0</td>\n",
       "      <td>326</td>\n",
       "      <td>3.89</td>\n",
       "      <td>3.84</td>\n",
       "      <td>2.31</td>\n",
       "    </tr>\n",
       "    <tr>\n",
       "      <th>2</th>\n",
       "      <td>0.23</td>\n",
       "      <td>Good</td>\n",
       "      <td>E</td>\n",
       "      <td>VS1</td>\n",
       "      <td>56.9</td>\n",
       "      <td>65.0</td>\n",
       "      <td>327</td>\n",
       "      <td>4.05</td>\n",
       "      <td>4.07</td>\n",
       "      <td>2.31</td>\n",
       "    </tr>\n",
       "    <tr>\n",
       "      <th>3</th>\n",
       "      <td>0.29</td>\n",
       "      <td>Premium</td>\n",
       "      <td>I</td>\n",
       "      <td>VS2</td>\n",
       "      <td>62.4</td>\n",
       "      <td>58.0</td>\n",
       "      <td>334</td>\n",
       "      <td>4.20</td>\n",
       "      <td>4.23</td>\n",
       "      <td>2.63</td>\n",
       "    </tr>\n",
       "    <tr>\n",
       "      <th>4</th>\n",
       "      <td>0.31</td>\n",
       "      <td>Good</td>\n",
       "      <td>J</td>\n",
       "      <td>SI2</td>\n",
       "      <td>63.3</td>\n",
       "      <td>58.0</td>\n",
       "      <td>335</td>\n",
       "      <td>4.34</td>\n",
       "      <td>4.35</td>\n",
       "      <td>2.75</td>\n",
       "    </tr>\n",
       "  </tbody>\n",
       "</table>\n",
       "</div>"
      ],
      "text/plain": [
       "   carat      cut color clarity  depth  table  price     x     y     z\n",
       "0   0.23    Ideal     E     SI2   61.5   55.0    326  3.95  3.98  2.43\n",
       "1   0.21  Premium     E     SI1   59.8   61.0    326  3.89  3.84  2.31\n",
       "2   0.23     Good     E     VS1   56.9   65.0    327  4.05  4.07  2.31\n",
       "3   0.29  Premium     I     VS2   62.4   58.0    334  4.20  4.23  2.63\n",
       "4   0.31     Good     J     SI2   63.3   58.0    335  4.34  4.35  2.75"
      ]
     },
     "execution_count": 5,
     "metadata": {},
     "output_type": "execute_result"
    }
   ],
   "source": [
    "df.head()"
   ]
  },
  {
   "cell_type": "code",
   "execution_count": 4,
   "id": "c4b8852a",
   "metadata": {},
   "outputs": [],
   "source": [
    "# df['log_price'] = np.log1p(df['price'])"
   ]
  },
  {
   "cell_type": "code",
   "execution_count": 5,
   "id": "f51c1995",
   "metadata": {},
   "outputs": [],
   "source": [
    "# def split_train_test(data, test_ratio):\n",
    "#     shuffled_indices = np.random.permutation(len(data))\n",
    "#     test_set_size = int(len(data) * test_ratio)\n",
    "#     test_indices = shuffled_indices[:test_set_size]\n",
    "#     train_indices = shuffled_indices[test_set_size:]\n",
    "#     return data.iloc[train_indices], data.iloc[test_indices]"
   ]
  },
  {
   "cell_type": "code",
   "execution_count": 6,
   "id": "dc33b6fb",
   "metadata": {},
   "outputs": [],
   "source": [
    "def split_test_set(data, split_ratio):\n",
    "    n = len(data)\n",
    "\n",
    "    n_val = int(n * split_ratio)\n",
    "    n_test = int(n * split_ratio)\n",
    "    n_train = n - (n_val + n_test)\n",
    "\n",
    "    idx = np.arange(n)\n",
    "    shuffled_idx = np.random.permutation(n)\n",
    "    \n",
    "\n",
    "    val_idx = shuffled_idx[:n_val]\n",
    "    test_idx = shuffled_idx[n_val: n_val + n_test]\n",
    "    train_idx = shuffled_idx[n_val + n_test:]\n",
    "    \n",
    "    return data.iloc[train_idx], data.iloc[val_idx], data.iloc[test_idx]\n"
   ]
  },
  {
   "cell_type": "code",
   "execution_count": 7,
   "id": "dcb99c05",
   "metadata": {},
   "outputs": [],
   "source": [
    "df_train, df_val, df_test = split_test_set(df, 0.2)\n",
    "# df_val = df_shuffled.iloc[n_train:n_train + n_val]\n",
    "# df_test = df_shuffled.iloc[n_train + n_val:]"
   ]
  },
  {
   "cell_type": "code",
   "execution_count": 8,
   "id": "e3e76000",
   "metadata": {},
   "outputs": [
    {
     "data": {
      "text/plain": [
       "(30000, 10000, 10000)"
      ]
     },
     "execution_count": 8,
     "metadata": {},
     "output_type": "execute_result"
    }
   ],
   "source": [
    "len(df_train), len(df_val), len(df_test)"
   ]
  },
  {
   "cell_type": "code",
   "execution_count": 9,
   "id": "7b41fe49",
   "metadata": {},
   "outputs": [
    {
     "data": {
      "text/plain": [
       "price    1.000000\n",
       "carat    0.921804\n",
       "x        0.884919\n",
       "y        0.864393\n",
       "z        0.860963\n",
       "table    0.129848\n",
       "depth   -0.012731\n",
       "Name: price, dtype: float64"
      ]
     },
     "execution_count": 9,
     "metadata": {},
     "output_type": "execute_result"
    }
   ],
   "source": [
    "corr_matrix = df.corr(numeric_only=True)\n",
    "corr_matrix[\"price\"].sort_values(ascending=False)"
   ]
  },
  {
   "cell_type": "code",
   "execution_count": 10,
   "id": "fb67de40",
   "metadata": {},
   "outputs": [
    {
     "data": {
      "text/plain": [
       "carat      0\n",
       "cut        0\n",
       "color      0\n",
       "clarity    0\n",
       "depth      0\n",
       "table      0\n",
       "price      0\n",
       "x          0\n",
       "y          0\n",
       "z          0\n",
       "dtype: int64"
      ]
     },
     "execution_count": 10,
     "metadata": {},
     "output_type": "execute_result"
    }
   ],
   "source": [
    "df.isnull().sum()"
   ]
  },
  {
   "cell_type": "code",
   "execution_count": 11,
   "id": "32ba5e0b",
   "metadata": {},
   "outputs": [
    {
     "data": {
      "text/plain": [
       "carat      float64\n",
       "cut         object\n",
       "color       object\n",
       "clarity     object\n",
       "depth      float64\n",
       "table      float64\n",
       "price        int64\n",
       "x          float64\n",
       "y          float64\n",
       "z          float64\n",
       "dtype: object"
      ]
     },
     "execution_count": 11,
     "metadata": {},
     "output_type": "execute_result"
    }
   ],
   "source": [
    "df.dtypes"
   ]
  },
  {
   "cell_type": "code",
   "execution_count": 12,
   "id": "ff4c6bce",
   "metadata": {},
   "outputs": [
    {
     "data": {
      "text/plain": [
       "['cut', 'color', 'clarity']"
      ]
     },
     "execution_count": 12,
     "metadata": {},
     "output_type": "execute_result"
    }
   ],
   "source": [
    "categorical = [col for col in df.columns if df[col].dtype == 'object']\n",
    "categorical\n"
   ]
  },
  {
   "cell_type": "code",
   "execution_count": 13,
   "id": "3546e4ad",
   "metadata": {},
   "outputs": [
    {
     "data": {
      "text/plain": [
       "['carat', 'depth', 'table', 'x', 'y', 'z']"
      ]
     },
     "execution_count": 13,
     "metadata": {},
     "output_type": "execute_result"
    }
   ],
   "source": [
    "numerical = [col for col in df.columns if df[col].dtype != 'object' and col != 'price']\n",
    "numerical"
   ]
  },
  {
   "attachments": {},
   "cell_type": "markdown",
   "id": "6bf172b3",
   "metadata": {},
   "source": [
    "no mising values, so no need to impute them"
   ]
  },
  {
   "cell_type": "code",
   "execution_count": 14,
   "id": "65d738c1",
   "metadata": {},
   "outputs": [],
   "source": [
    "y_train = df_train['price'].values\n",
    "y_val = df_val['price'].values\n",
    "y_test = df_test['price'].values\n",
    "\n",
    "del df_train['price']\n",
    "del df_val['price']\n",
    "del df_test['price']"
   ]
  },
  {
   "cell_type": "code",
   "execution_count": 15,
   "id": "acdb14ec",
   "metadata": {},
   "outputs": [
    {
     "data": {
      "text/html": [
       "<div>\n",
       "<style scoped>\n",
       "    .dataframe tbody tr th:only-of-type {\n",
       "        vertical-align: middle;\n",
       "    }\n",
       "\n",
       "    .dataframe tbody tr th {\n",
       "        vertical-align: top;\n",
       "    }\n",
       "\n",
       "    .dataframe thead th {\n",
       "        text-align: right;\n",
       "    }\n",
       "</style>\n",
       "<table border=\"1\" class=\"dataframe\">\n",
       "  <thead>\n",
       "    <tr style=\"text-align: right;\">\n",
       "      <th></th>\n",
       "      <th>carat</th>\n",
       "      <th>depth</th>\n",
       "      <th>table</th>\n",
       "      <th>price</th>\n",
       "      <th>x</th>\n",
       "      <th>y</th>\n",
       "      <th>z</th>\n",
       "    </tr>\n",
       "  </thead>\n",
       "  <tbody>\n",
       "    <tr>\n",
       "      <th>count</th>\n",
       "      <td>50000.000000</td>\n",
       "      <td>50000.000000</td>\n",
       "      <td>50000.000000</td>\n",
       "      <td>50000.000000</td>\n",
       "      <td>50000.000000</td>\n",
       "      <td>50000.000000</td>\n",
       "      <td>50000.000000</td>\n",
       "    </tr>\n",
       "    <tr>\n",
       "      <th>mean</th>\n",
       "      <td>0.799444</td>\n",
       "      <td>61.753006</td>\n",
       "      <td>57.457830</td>\n",
       "      <td>3944.805440</td>\n",
       "      <td>5.734403</td>\n",
       "      <td>5.737956</td>\n",
       "      <td>3.541056</td>\n",
       "    </tr>\n",
       "    <tr>\n",
       "      <th>std</th>\n",
       "      <td>0.475173</td>\n",
       "      <td>1.431088</td>\n",
       "      <td>2.232092</td>\n",
       "      <td>3997.938105</td>\n",
       "      <td>1.123077</td>\n",
       "      <td>1.145579</td>\n",
       "      <td>0.707065</td>\n",
       "    </tr>\n",
       "    <tr>\n",
       "      <th>min</th>\n",
       "      <td>0.200000</td>\n",
       "      <td>43.000000</td>\n",
       "      <td>43.000000</td>\n",
       "      <td>326.000000</td>\n",
       "      <td>0.000000</td>\n",
       "      <td>0.000000</td>\n",
       "      <td>0.000000</td>\n",
       "    </tr>\n",
       "    <tr>\n",
       "      <th>25%</th>\n",
       "      <td>0.400000</td>\n",
       "      <td>61.000000</td>\n",
       "      <td>56.000000</td>\n",
       "      <td>951.000000</td>\n",
       "      <td>4.710000</td>\n",
       "      <td>4.720000</td>\n",
       "      <td>2.910000</td>\n",
       "    </tr>\n",
       "    <tr>\n",
       "      <th>50%</th>\n",
       "      <td>0.700000</td>\n",
       "      <td>61.800000</td>\n",
       "      <td>57.000000</td>\n",
       "      <td>2410.000000</td>\n",
       "      <td>5.700000</td>\n",
       "      <td>5.710000</td>\n",
       "      <td>3.530000</td>\n",
       "    </tr>\n",
       "    <tr>\n",
       "      <th>75%</th>\n",
       "      <td>1.040000</td>\n",
       "      <td>62.500000</td>\n",
       "      <td>59.000000</td>\n",
       "      <td>5351.000000</td>\n",
       "      <td>6.540000</td>\n",
       "      <td>6.540000</td>\n",
       "      <td>4.040000</td>\n",
       "    </tr>\n",
       "    <tr>\n",
       "      <th>max</th>\n",
       "      <td>5.010000</td>\n",
       "      <td>79.000000</td>\n",
       "      <td>95.000000</td>\n",
       "      <td>18823.000000</td>\n",
       "      <td>10.740000</td>\n",
       "      <td>58.900000</td>\n",
       "      <td>31.800000</td>\n",
       "    </tr>\n",
       "  </tbody>\n",
       "</table>\n",
       "</div>"
      ],
      "text/plain": [
       "              carat         depth         table         price             x  \\\n",
       "count  50000.000000  50000.000000  50000.000000  50000.000000  50000.000000   \n",
       "mean       0.799444     61.753006     57.457830   3944.805440      5.734403   \n",
       "std        0.475173      1.431088      2.232092   3997.938105      1.123077   \n",
       "min        0.200000     43.000000     43.000000    326.000000      0.000000   \n",
       "25%        0.400000     61.000000     56.000000    951.000000      4.710000   \n",
       "50%        0.700000     61.800000     57.000000   2410.000000      5.700000   \n",
       "75%        1.040000     62.500000     59.000000   5351.000000      6.540000   \n",
       "max        5.010000     79.000000     95.000000  18823.000000     10.740000   \n",
       "\n",
       "                  y             z  \n",
       "count  50000.000000  50000.000000  \n",
       "mean       5.737956      3.541056  \n",
       "std        1.145579      0.707065  \n",
       "min        0.000000      0.000000  \n",
       "25%        4.720000      2.910000  \n",
       "50%        5.710000      3.530000  \n",
       "75%        6.540000      4.040000  \n",
       "max       58.900000     31.800000  "
      ]
     },
     "execution_count": 15,
     "metadata": {},
     "output_type": "execute_result"
    }
   ],
   "source": [
    "df.describe()"
   ]
  },
  {
   "cell_type": "code",
   "execution_count": 16,
   "id": "db18f4a7",
   "metadata": {},
   "outputs": [],
   "source": [
    "dv = DictVectorizer(sparse=False)"
   ]
  },
  {
   "cell_type": "code",
   "execution_count": 17,
   "id": "136e09f2",
   "metadata": {},
   "outputs": [],
   "source": [
    "dicts_train = df_train.to_dict(orient='records')\n",
    "dicts_val = df_val.to_dict(orient='records')\n",
    "#test_dicts = df_test.to_dict(orient='records')"
   ]
  },
  {
   "cell_type": "code",
   "execution_count": 18,
   "id": "fe646578",
   "metadata": {},
   "outputs": [
    {
     "data": {
      "text/plain": [
       "{'carat': 1.14,\n",
       " 'cut': 'Good',\n",
       " 'color': 'I',\n",
       " 'clarity': 'SI2',\n",
       " 'depth': 60.0,\n",
       " 'table': 65.0,\n",
       " 'x': 6.8,\n",
       " 'y': 6.75,\n",
       " 'z': 4.06}"
      ]
     },
     "execution_count": 18,
     "metadata": {},
     "output_type": "execute_result"
    }
   ],
   "source": [
    "dicts_train[10]"
   ]
  },
  {
   "cell_type": "code",
   "execution_count": 17,
   "id": "824ac9df",
   "metadata": {},
   "outputs": [],
   "source": [
    "X_train = dv.fit_transform(dicts_train)"
   ]
  },
  {
   "cell_type": "code",
   "execution_count": 18,
   "id": "c5fc69ad",
   "metadata": {},
   "outputs": [],
   "source": [
    "lr = LinearRegression()"
   ]
  },
  {
   "cell_type": "code",
   "execution_count": 19,
   "id": "068b586c",
   "metadata": {},
   "outputs": [
    {
     "data": {
      "text/html": [
       "<style>#sk-container-id-1 {color: black;background-color: white;}#sk-container-id-1 pre{padding: 0;}#sk-container-id-1 div.sk-toggleable {background-color: white;}#sk-container-id-1 label.sk-toggleable__label {cursor: pointer;display: block;width: 100%;margin-bottom: 0;padding: 0.3em;box-sizing: border-box;text-align: center;}#sk-container-id-1 label.sk-toggleable__label-arrow:before {content: \"▸\";float: left;margin-right: 0.25em;color: #696969;}#sk-container-id-1 label.sk-toggleable__label-arrow:hover:before {color: black;}#sk-container-id-1 div.sk-estimator:hover label.sk-toggleable__label-arrow:before {color: black;}#sk-container-id-1 div.sk-toggleable__content {max-height: 0;max-width: 0;overflow: hidden;text-align: left;background-color: #f0f8ff;}#sk-container-id-1 div.sk-toggleable__content pre {margin: 0.2em;color: black;border-radius: 0.25em;background-color: #f0f8ff;}#sk-container-id-1 input.sk-toggleable__control:checked~div.sk-toggleable__content {max-height: 200px;max-width: 100%;overflow: auto;}#sk-container-id-1 input.sk-toggleable__control:checked~label.sk-toggleable__label-arrow:before {content: \"▾\";}#sk-container-id-1 div.sk-estimator input.sk-toggleable__control:checked~label.sk-toggleable__label {background-color: #d4ebff;}#sk-container-id-1 div.sk-label input.sk-toggleable__control:checked~label.sk-toggleable__label {background-color: #d4ebff;}#sk-container-id-1 input.sk-hidden--visually {border: 0;clip: rect(1px 1px 1px 1px);clip: rect(1px, 1px, 1px, 1px);height: 1px;margin: -1px;overflow: hidden;padding: 0;position: absolute;width: 1px;}#sk-container-id-1 div.sk-estimator {font-family: monospace;background-color: #f0f8ff;border: 1px dotted black;border-radius: 0.25em;box-sizing: border-box;margin-bottom: 0.5em;}#sk-container-id-1 div.sk-estimator:hover {background-color: #d4ebff;}#sk-container-id-1 div.sk-parallel-item::after {content: \"\";width: 100%;border-bottom: 1px solid gray;flex-grow: 1;}#sk-container-id-1 div.sk-label:hover label.sk-toggleable__label {background-color: #d4ebff;}#sk-container-id-1 div.sk-serial::before {content: \"\";position: absolute;border-left: 1px solid gray;box-sizing: border-box;top: 0;bottom: 0;left: 50%;z-index: 0;}#sk-container-id-1 div.sk-serial {display: flex;flex-direction: column;align-items: center;background-color: white;padding-right: 0.2em;padding-left: 0.2em;position: relative;}#sk-container-id-1 div.sk-item {position: relative;z-index: 1;}#sk-container-id-1 div.sk-parallel {display: flex;align-items: stretch;justify-content: center;background-color: white;position: relative;}#sk-container-id-1 div.sk-item::before, #sk-container-id-1 div.sk-parallel-item::before {content: \"\";position: absolute;border-left: 1px solid gray;box-sizing: border-box;top: 0;bottom: 0;left: 50%;z-index: -1;}#sk-container-id-1 div.sk-parallel-item {display: flex;flex-direction: column;z-index: 1;position: relative;background-color: white;}#sk-container-id-1 div.sk-parallel-item:first-child::after {align-self: flex-end;width: 50%;}#sk-container-id-1 div.sk-parallel-item:last-child::after {align-self: flex-start;width: 50%;}#sk-container-id-1 div.sk-parallel-item:only-child::after {width: 0;}#sk-container-id-1 div.sk-dashed-wrapped {border: 1px dashed gray;margin: 0 0.4em 0.5em 0.4em;box-sizing: border-box;padding-bottom: 0.4em;background-color: white;}#sk-container-id-1 div.sk-label label {font-family: monospace;font-weight: bold;display: inline-block;line-height: 1.2em;}#sk-container-id-1 div.sk-label-container {text-align: center;}#sk-container-id-1 div.sk-container {/* jupyter's `normalize.less` sets `[hidden] { display: none; }` but bootstrap.min.css set `[hidden] { display: none !important; }` so we also need the `!important` here to be able to override the default hidden behavior on the sphinx rendered scikit-learn.org. See: https://github.com/scikit-learn/scikit-learn/issues/21755 */display: inline-block !important;position: relative;}#sk-container-id-1 div.sk-text-repr-fallback {display: none;}</style><div id=\"sk-container-id-1\" class=\"sk-top-container\"><div class=\"sk-text-repr-fallback\"><pre>LinearRegression()</pre><b>In a Jupyter environment, please rerun this cell to show the HTML representation or trust the notebook. <br />On GitHub, the HTML representation is unable to render, please try loading this page with nbviewer.org.</b></div><div class=\"sk-container\" hidden><div class=\"sk-item\"><div class=\"sk-estimator sk-toggleable\"><input class=\"sk-toggleable__control sk-hidden--visually\" id=\"sk-estimator-id-1\" type=\"checkbox\" checked><label for=\"sk-estimator-id-1\" class=\"sk-toggleable__label sk-toggleable__label-arrow\">LinearRegression</label><div class=\"sk-toggleable__content\"><pre>LinearRegression()</pre></div></div></div></div></div>"
      ],
      "text/plain": [
       "LinearRegression()"
      ]
     },
     "execution_count": 19,
     "metadata": {},
     "output_type": "execute_result"
    }
   ],
   "source": [
    "lr.fit(X_train, y_train)\n",
    "# lr.fit(X_train, np.log1p(y_train))"
   ]
  },
  {
   "cell_type": "code",
   "execution_count": 20,
   "id": "016c28a9",
   "metadata": {},
   "outputs": [
    {
     "name": "stdout",
     "output_type": "stream",
     "text": [
      "Training rmse: 1139.0786996598392\n"
     ]
    }
   ],
   "source": [
    "# training performance\n",
    "y_pred = lr.predict(X_train)\n",
    "#y_pred = np.expm1(y_pred)\n",
    "rmse = mean_squared_error(y_train, y_pred, squared=False)\n",
    "print(f\"Training rmse: {rmse}\")"
   ]
  },
  {
   "cell_type": "code",
   "execution_count": 21,
   "id": "0c810beb",
   "metadata": {},
   "outputs": [
    {
     "name": "stdout",
     "output_type": "stream",
     "text": [
      "Validation rmse: 1133.1245541918595\n"
     ]
    }
   ],
   "source": [
    "# val performance\n",
    "X_val = dv.transform(dicts_val)\n",
    "y_pred = lr.predict(X_val)\n",
    "#y_pred = np.expm1(y_pred)\n",
    "rmse = mean_squared_error(y_val, y_pred, squared=False)\n",
    "print(f\"Validation rmse: {rmse}\")"
   ]
  },
  {
   "attachments": {},
   "cell_type": "markdown",
   "id": "82b28e91",
   "metadata": {},
   "source": [
    "## Tree Regressors"
   ]
  },
  {
   "cell_type": "code",
   "execution_count": 22,
   "id": "f8f1ebdc",
   "metadata": {},
   "outputs": [],
   "source": [
    "from sklearn.tree import DecisionTreeRegressor"
   ]
  },
  {
   "cell_type": "code",
   "execution_count": 23,
   "id": "681a2018",
   "metadata": {},
   "outputs": [],
   "source": [
    "dtr = DecisionTreeRegressor()"
   ]
  },
  {
   "cell_type": "code",
   "execution_count": 24,
   "id": "a620da9e",
   "metadata": {},
   "outputs": [
    {
     "name": "stdout",
     "output_type": "stream",
     "text": [
      "training rmse: 6.965699294878201\n"
     ]
    }
   ],
   "source": [
    "# training performance\n",
    "dtr.fit(X_train, y_train)\n",
    "y_pred = dtr.predict(X_train)\n",
    "rmse = mean_squared_error(y_train, y_pred, squared=False)\n",
    "print(f\"training rmse: {rmse}\")"
   ]
  },
  {
   "cell_type": "code",
   "execution_count": 25,
   "id": "f783c1b3",
   "metadata": {},
   "outputs": [
    {
     "name": "stdout",
     "output_type": "stream",
     "text": [
      "validation rmse: 745.9598331344657\n"
     ]
    }
   ],
   "source": [
    "# validation performance\n",
    "dtr.fit(X_train, y_train)\n",
    "y_pred = dtr.predict(X_val)\n",
    "rmse = mean_squared_error(y_val, y_pred, squared=False)\n",
    "print(f\"validation rmse: {rmse}\")"
   ]
  },
  {
   "attachments": {},
   "cell_type": "markdown",
   "id": "36945304",
   "metadata": {},
   "source": [
    "okay so the validation performance with the tree regressor out of box is already significantly better than lr.  but the performance was way worse than the training performance which means it is overfitting and if we regularize somehow or play with the parameters we can probably improve it"
   ]
  },
  {
   "cell_type": "code",
   "execution_count": 28,
   "id": "c6cfc10e",
   "metadata": {},
   "outputs": [
    {
     "name": "stdout",
     "output_type": "stream",
     "text": [
      "validation rmse: 738.4336292958224\n"
     ]
    }
   ],
   "source": [
    "# validation performance\n",
    "dtr.fit(X_train, y_train)\n",
    "#dtr.fit(X_train, np.log1p(y_train))\n",
    "y_pred = dtr.predict(X_val)\n",
    "#y_pred = np.expm1(y_pred)\n",
    "rmse = mean_squared_error(y_val, y_pred, squared=False)\n",
    "\n",
    "print(f\"validation rmse: {rmse}\")\n"
   ]
  },
  {
   "cell_type": "code",
   "execution_count": 31,
   "id": "3ba05d9d",
   "metadata": {},
   "outputs": [
    {
     "name": "stdout",
     "output_type": "stream",
     "text": [
      "validation rmse: 779.1218305217647\n"
     ]
    }
   ],
   "source": [
    "# validation performance\n",
    "dtr.fit(X_train, np.log1p(y_train))\n",
    "\n",
    "y_pred = dtr.predict(X_val)\n",
    "y_pred = np.expm1(y_pred)\n",
    "rmse = mean_squared_error(y_val, y_pred, squared=False)\n",
    "\n",
    "print(f\"validation rmse: {rmse}\")\n"
   ]
  },
  {
   "attachments": {},
   "cell_type": "markdown",
   "id": "fef33fcd",
   "metadata": {},
   "source": [
    "takind the log of the target doesnt seem to help much and in the case of lr in made validation rmse much worse so I will not bother with it."
   ]
  },
  {
   "cell_type": "code",
   "execution_count": 32,
   "id": "10d3f955",
   "metadata": {},
   "outputs": [],
   "source": [
    "# lets play with the max_depth parameter to see how it affects the performance on val rmse\n",
    "\n",
    "def train_dtr(max_depth=None, min_samples_leaf=1, max_leaf_nodes=None):\n",
    "    \n",
    "    if max_depth is not None:\n",
    "        dtr = DecisionTreeRegressor(max_depth=max_depth,min_samples_leaf=min_samples_leaf, random_state=23,\n",
    "                                   max_leaf_nodes=max_leaf_nodes)\n",
    "    else:\n",
    "        dtr = DecisionTreeRegressor(random_state=42)\n",
    "    \n",
    "    dv = DictVectorizer(sparse=False)\n",
    "    dicts_train = df_train.to_dict(orient='records')\n",
    "    X_train = dv.fit_transform(dicts_train)\n",
    "    \n",
    "    dicts_val = df_val.to_dict(orient='records')\n",
    "    X_val = dv.transform(dicts_val)\n",
    "    \n",
    "    \n",
    "    dtr.fit(X_train, y_train)\n",
    "    #dtr.fit(X_train, np.log1p(y_train))\n",
    "    \n",
    "    y_pred = dtr.predict(X_val)\n",
    "    #y_pred = np.expm1(y_pred)\n",
    "    \n",
    "    rmse = mean_squared_error(y_val, y_pred, squared=False)\n",
    "    \n",
    "    return rmse\n",
    "    \n",
    "        "
   ]
  },
  {
   "cell_type": "code",
   "execution_count": 34,
   "id": "7ce5ed50",
   "metadata": {},
   "outputs": [
    {
     "name": "stdout",
     "output_type": "stream",
     "text": [
      "max_depth: 8 --------> rmse: 921.5867489739034\n",
      "max_depth: 10 --------> rmse: 767.9930913343646\n",
      "max_depth: 12 --------> rmse: 685.4898361539573\n",
      "max_depth: 14 --------> rmse: 683.504104506087\n",
      "max_depth: 16 --------> rmse: 696.2004348255731\n"
     ]
    }
   ],
   "source": [
    "for d in [8, 10, 12, 14, 16]:\n",
    "    rmse = train_dtr(d)\n",
    "    print(f\"max_depth: {d} --------> rmse: {rmse}\")"
   ]
  },
  {
   "cell_type": "code",
   "execution_count": 35,
   "id": "9dbf460d",
   "metadata": {},
   "outputs": [
    {
     "name": "stdout",
     "output_type": "stream",
     "text": [
      "max_depth: 14 min_samples_leaf: 2 --------> rmse: 668.4038507622773\n",
      "max_depth: 14 min_samples_leaf: 4 --------> rmse: 661.0163319809513\n",
      "max_depth: 14 min_samples_leaf: 6 --------> rmse: 651.7743823456976\n",
      "max_depth: 14 min_samples_leaf: 8 --------> rmse: 647.9475654485638\n",
      "max_depth: 14 min_samples_leaf: 10 --------> rmse: 643.9642573366292\n",
      "max_depth: 14 min_samples_leaf: 12 --------> rmse: 647.9374237971298\n",
      "max_depth: 14 min_samples_leaf: 14 --------> rmse: 647.6586289189544\n",
      "max_depth: 14 min_samples_leaf: 16 --------> rmse: 652.3892915391586\n",
      "max_depth: 14 min_samples_leaf: 20 --------> rmse: 663.5673284174321\n"
     ]
    }
   ],
   "source": [
    "d = 14\n",
    "for s in [2, 4, 6, 8, 10, 12, 14, 16, 20]:\n",
    "    rmse = train_dtr(d, s)\n",
    "    print(f\"max_depth: {d} min_samples_leaf: {s} --------> rmse: {rmse}\")"
   ]
  },
  {
   "cell_type": "code",
   "execution_count": 36,
   "id": "265fd540",
   "metadata": {},
   "outputs": [
    {
     "name": "stdout",
     "output_type": "stream",
     "text": [
      "max_depth: 14 min_samples_leaf: 10  max_leaf_nodes: 220 --------> rmse: 682.2259339959656\n",
      "max_depth: 14 min_samples_leaf: 10  max_leaf_nodes: 400 --------> rmse: 655.8399168674272\n",
      "max_depth: 14 min_samples_leaf: 10  max_leaf_nodes: 1000 --------> rmse: 644.3223602150954\n",
      "max_depth: 14 min_samples_leaf: 10  max_leaf_nodes: None --------> rmse: 643.9642573366292\n"
     ]
    }
   ],
   "source": [
    "d = 14\n",
    "s = 10\n",
    "for n in [220, 400, 1000, None]:\n",
    "    rmse = train_dtr(d, s, n)\n",
    "    print(f\"max_depth: {d} min_samples_leaf: {s}  max_leaf_nodes: {n} --------> rmse: {rmse}\")"
   ]
  },
  {
   "cell_type": "code",
   "execution_count": 39,
   "id": "c5258b0d",
   "metadata": {},
   "outputs": [],
   "source": [
    "SCORES = {\"model\": \"DecisionTreeRegressor\",\n",
    "          'params': {'max_depth': 14, 'min_samples_leaf': 10, 'max_leaf_nodes': None, 'val_rmse': 643.96},\n",
    "         }\n",
    "                                                       "
   ]
  },
  {
   "attachments": {},
   "cell_type": "markdown",
   "id": "9bb67167",
   "metadata": {},
   "source": [
    "### Random forest regressor"
   ]
  },
  {
   "cell_type": "code",
   "execution_count": 40,
   "id": "2b74d91f",
   "metadata": {},
   "outputs": [],
   "source": [
    "from sklearn.ensemble import RandomForestRegressor"
   ]
  },
  {
   "cell_type": "code",
   "execution_count": 41,
   "id": "5cbea941",
   "metadata": {},
   "outputs": [],
   "source": [
    "def train_rfr(n_estimators=100, max_depth=None, min_samples_leaf=2, max_leaf_nodes=None, bootstrap=True):\n",
    "    \n",
    "    \n",
    "    rfr = RandomForestRegressor(n_estimators=n_estimators, max_depth=max_depth, min_samples_leaf=min_samples_leaf, random_state=23,\n",
    "                                   max_leaf_nodes=max_leaf_nodes, bootstrap=bootstrap)\n",
    "#     else:\n",
    "#         rfr = RandomForestRegressor(bootstrap=True, random_state=42)\n",
    "    \n",
    "    dv = DictVectorizer(sparse=False)\n",
    "    dicts_train = df_train.to_dict(orient='records')\n",
    "    X_train = dv.fit_transform(dicts_train)\n",
    "    \n",
    "    dicts_val = df_val.to_dict(orient='records')\n",
    "    X_val = dv.transform(dicts_val)\n",
    "    \n",
    "    \n",
    "    rfr.fit(X_train, y_train)\n",
    "    #dtr.fit(X_train, np.log1p(y_train))\n",
    "    \n",
    "    y_pred = rfr.predict(X_val)\n",
    "    #y_pred = np.expm1(y_pred)\n",
    "    \n",
    "    rmse = mean_squared_error(y_val, y_pred, squared=False)\n",
    "    \n",
    "    return rmse"
   ]
  },
  {
   "cell_type": "code",
   "execution_count": 42,
   "id": "feb795c5",
   "metadata": {},
   "outputs": [
    {
     "data": {
      "text/plain": [
       "555.4104290246701"
      ]
     },
     "execution_count": 42,
     "metadata": {},
     "output_type": "execute_result"
    }
   ],
   "source": [
    "# out the box, with standard settings\n",
    "train_rfr()"
   ]
  },
  {
   "attachments": {},
   "cell_type": "markdown",
   "id": "7a325864",
   "metadata": {},
   "source": [
    "wow, that is quite a jump in performance"
   ]
  },
  {
   "cell_type": "code",
   "execution_count": 43,
   "id": "276b71c9",
   "metadata": {},
   "outputs": [
    {
     "name": "stdout",
     "output_type": "stream",
     "text": [
      "n_estimators: 100 --------> rmse: 555.4104290246701\n",
      "n_estimators: 200 --------> rmse: 555.5721045179873\n",
      "n_estimators: 300 --------> rmse: 554.9609613678379\n"
     ]
    }
   ],
   "source": [
    "# first to tune the n_estimators\n",
    "for n in [100, 200, 300]:\n",
    "    rmse = train_rfr(n_estimators=n)\n",
    "    print(f\"n_estimators: {n} --------> rmse: {rmse}\")"
   ]
  },
  {
   "attachments": {},
   "cell_type": "markdown",
   "id": "2273e916",
   "metadata": {},
   "source": [
    "rmse improves very marginally with more estimators but it doesnt seem worth it given the extra time needed to train.  I think I will stay with the default 100"
   ]
  },
  {
   "cell_type": "code",
   "execution_count": 44,
   "id": "ea634af7",
   "metadata": {},
   "outputs": [
    {
     "name": "stdout",
     "output_type": "stream",
     "text": [
      "n_estimators: 100  max_depth: 18 --------> rmse: 555.7453306059564\n",
      "n_estimators: 100  max_depth: 25 --------> rmse: 556.1774749264396\n",
      "n_estimators: 100  max_depth: 35 --------> rmse: 555.4104290246701\n",
      "n_estimators: 100  max_depth: None --------> rmse: 555.4104290246701\n"
     ]
    }
   ],
   "source": [
    "# first to tune the n_estimators\n",
    "n = 100\n",
    "for d in [18, 25, 35, None]:\n",
    "    rmse = train_rfr(n_estimators=n, max_depth=d)\n",
    "    print(f\"n_estimators: {n}  max_depth: {d} --------> rmse: {rmse}\")"
   ]
  },
  {
   "attachments": {},
   "cell_type": "markdown",
   "id": "a2382921",
   "metadata": {},
   "source": [
    "default value for max_depth (None) seems good here as well"
   ]
  },
  {
   "cell_type": "code",
   "execution_count": 45,
   "id": "fcd80a61",
   "metadata": {},
   "outputs": [
    {
     "name": "stdout",
     "output_type": "stream",
     "text": [
      "n_estimators: 100  max_depth: 18 --------> rmse: 680.3926869657345\n",
      "n_estimators: 100  max_depth: 25 --------> rmse: 695.0703185597167\n",
      "n_estimators: 100  max_depth: 35 --------> rmse: 696.0554324911\n",
      "n_estimators: 100  max_depth: None --------> rmse: 696.0554324911\n"
     ]
    }
   ],
   "source": [
    "n = 100\n",
    "for d in [18, 25, 35, None]:\n",
    "    rmse = train_rfr(n_estimators=n, max_depth=d, bootstrap=False)\n",
    "    print(f\"n_estimators: {n}  max_depth: {d} --------> rmse: {rmse}\")"
   ]
  },
  {
   "attachments": {},
   "cell_type": "markdown",
   "id": "8f4b86cc",
   "metadata": {},
   "source": [
    "I just wanted to see the difference with bootstrap=False, performance declined. Keep it as True"
   ]
  },
  {
   "cell_type": "code",
   "execution_count": 46,
   "id": "ccfcc083",
   "metadata": {},
   "outputs": [
    {
     "name": "stdout",
     "output_type": "stream",
     "text": [
      "n_estimators: 100  max_depth: None max_leaf_nodes: 200 --------> rmse: 629.4740807188199\n",
      "n_estimators: 100  max_depth: None max_leaf_nodes: 400 --------> rmse: 589.1227246745066\n",
      "n_estimators: 100  max_depth: None max_leaf_nodes: 600 --------> rmse: 573.7674626249553\n",
      "n_estimators: 100  max_depth: None max_leaf_nodes: 800 --------> rmse: 567.0535965363822\n",
      "n_estimators: 100  max_depth: None max_leaf_nodes: None --------> rmse: 555.4104290246701\n"
     ]
    }
   ],
   "source": [
    "# tuning max_leaf_nodes\n",
    "n = 100\n",
    "d = None\n",
    "for l in [200, 400, 600, 800, None]:\n",
    "    rmse = train_rfr(n_estimators=n, max_depth=d, max_leaf_nodes=l)\n",
    "    print(f\"n_estimators: {n}  max_depth: {d} max_leaf_nodes: {l} --------> rmse: {rmse}\")"
   ]
  },
  {
   "attachments": {},
   "cell_type": "markdown",
   "id": "1123fd88",
   "metadata": {},
   "source": [
    "max_leaf_nodes also seems to be best at max value None"
   ]
  },
  {
   "attachments": {},
   "cell_type": "markdown",
   "id": "a20f1431",
   "metadata": {},
   "source": [
    "### XGBRegressor"
   ]
  },
  {
   "cell_type": "code",
   "execution_count": 47,
   "id": "0322bb93",
   "metadata": {},
   "outputs": [],
   "source": [
    "from xgboost import XGBRegressor"
   ]
  },
  {
   "cell_type": "code",
   "execution_count": 48,
   "id": "56c0a065",
   "metadata": {},
   "outputs": [
    {
     "name": "stdout",
     "output_type": "stream",
     "text": [
      "xgb_regressor val_rmse: 565.566924933824\n"
     ]
    }
   ],
   "source": [
    "# out of the box\n",
    "\n",
    "xgb_regressor = XGBRegressor(objective='reg:squarederror',\n",
    "                             random_state=42)\n",
    "xgb_regressor.fit(X_train, y_train)\n",
    "\n",
    "y_pred = xgb_regressor.predict(X_val)\n",
    "rmse = mean_squared_error(y_val, y_pred, squared=False)\n",
    "print(f\"xgb_regressor val_rmse: {rmse}\")"
   ]
  },
  {
   "cell_type": "code",
   "execution_count": 69,
   "id": "b776fd45",
   "metadata": {},
   "outputs": [],
   "source": [
    "def train_xgb_regressor(eta=0.3, max_depth=6, min_child_weight=1):\n",
    "    xgb_reg = XGBRegressor(eta=eta, max_depth=max_depth, min_child_weight=min_child_weight, random_state=23)\n",
    "#     else:\n",
    "#         rfr = RandomForestRegressor(bootstrap=True, random_state=42)\n",
    "    \n",
    "    dv = DictVectorizer(sparse=False)\n",
    "    dicts_train = df_train.to_dict(orient='records')\n",
    "    X_train = dv.fit_transform(dicts_train)\n",
    "    \n",
    "    dicts_val = df_val.to_dict(orient='records')\n",
    "    X_val = dv.transform(dicts_val)\n",
    "    \n",
    "    \n",
    "    xgb_reg.fit(X_train, y_train)\n",
    "    #dtr.fit(X_train, np.log1p(y_train))\n",
    "    \n",
    "    y_pred = xgb_reg.predict(X_val)\n",
    "    #y_pred = np.expm1(y_pred)\n",
    "    \n",
    "    rmse = mean_squared_error(y_val, y_pred, squared=False)\n",
    "    \n",
    "    return rmse"
   ]
  },
  {
   "cell_type": "code",
   "execution_count": null,
   "id": "b012ebfd",
   "metadata": {},
   "outputs": [],
   "source": [
    "XGBRegressor()"
   ]
  },
  {
   "cell_type": "code",
   "execution_count": 50,
   "id": "339ee7ae",
   "metadata": {},
   "outputs": [
    {
     "name": "stdout",
     "output_type": "stream",
     "text": [
      "eta: 0.1 -----> val_rmse: 558.9534684791964\n",
      "eta: 0.12 -----> val_rmse: 555.3450873353094\n",
      "eta: 0.14 -----> val_rmse: 556.9940414926251\n",
      "eta: 0.16 -----> val_rmse: 553.2864166103369\n",
      "eta: 0.165 -----> val_rmse: 557.7480574971576\n",
      "eta: 0.17 -----> val_rmse: 555.8154335425044\n",
      "eta: 0.18 -----> val_rmse: 557.1561571985372\n"
     ]
    }
   ],
   "source": [
    "# tuning eta\n",
    "for e in [0.1, 0.12, 0.14, 0.16, .165, 0.17, 0.18]:\n",
    "    rmse = train_xgb_regressor(eta=e)\n",
    "    print(f\"eta: {e} -----> val_rmse: {rmse}\")"
   ]
  },
  {
   "cell_type": "code",
   "execution_count": 52,
   "id": "f97d671f",
   "metadata": {},
   "outputs": [
    {
     "name": "stdout",
     "output_type": "stream",
     "text": [
      "eta: 0.16  max_depth: 2 -----> val_rmse: 839.6484442933144\n",
      "eta: 0.16  max_depth: 4 -----> val_rmse: 614.4013393490552\n",
      "eta: 0.16  max_depth: 6 -----> val_rmse: 553.2864166103369\n",
      "eta: 0.16  max_depth: 7 -----> val_rmse: 543.3631064922608\n",
      "eta: 0.16  max_depth: 8 -----> val_rmse: 545.58569520175\n",
      "eta: 0.16  max_depth: 10 -----> val_rmse: 553.4971179685733\n"
     ]
    }
   ],
   "source": [
    "# tuning max_depth\n",
    "e = 0.16\n",
    "for d in [2, 4, 6, 7, 8, 10]:\n",
    "    rmse = train_xgb_regressor(eta=e, max_depth=d)\n",
    "    print(f\"eta: {e}  max_depth: {d} -----> val_rmse: {rmse}\")"
   ]
  },
  {
   "cell_type": "code",
   "execution_count": 71,
   "id": "d21a44b3",
   "metadata": {},
   "outputs": [
    {
     "name": "stdout",
     "output_type": "stream",
     "text": [
      "eta: 0.16  max_depth: 7 min_child_weight: 0 -----> val_rmse: 543.3631064922608\n",
      "eta: 0.16  max_depth: 7 min_child_weight: 0.1 -----> val_rmse: 543.3631064922608\n",
      "eta: 0.16  max_depth: 7 min_child_weight: 0.5 -----> val_rmse: 543.3631064922608\n",
      "eta: 0.16  max_depth: 7 min_child_weight: 0.7 -----> val_rmse: 543.3631064922608\n",
      "eta: 0.16  max_depth: 7 min_child_weight: 1 -----> val_rmse: 543.3631064922608\n",
      "eta: 0.16  max_depth: 7 min_child_weight: 2 -----> val_rmse: 542.4844487053525\n",
      "eta: 0.16  max_depth: 7 min_child_weight: 2.5 -----> val_rmse: 549.6160678045958\n",
      "eta: 0.16  max_depth: 7 min_child_weight: 2.7 -----> val_rmse: 549.6160678045958\n"
     ]
    }
   ],
   "source": [
    "# tuning min_child_weight\n",
    "e = 0.16\n",
    "d = 7\n",
    "for c in [0, 0.1, 0.5, 0.7, 1, 2, 2.5, 2.7]:\n",
    "    rmse = train_xgb_regressor(eta=e, max_depth=d, min_child_weight=c)\n",
    "    print(f\"eta: {e}  max_depth: {d} min_child_weight: {c} -----> val_rmse: {rmse}\")"
   ]
  },
  {
   "attachments": {},
   "cell_type": "markdown",
   "id": "6db7f48a",
   "metadata": {},
   "source": [
    "the default min_child_weight of 1 is fine, same as 0"
   ]
  },
  {
   "cell_type": "code",
   "execution_count": 62,
   "id": "ac8ec9b9",
   "metadata": {},
   "outputs": [],
   "source": [
    "def train_xgb_regressor(eta=0.3, max_depth=6, min_child_weight=1):\n",
    "    xgb_reg = XGBRegressor(eta=eta, max_depth=max_depth, min_child_weight=min_child_weight, random_state=23)\n",
    "#     else:\n",
    "#         rfr = RandomForestRegressor(bootstrap=True, random_state=42)\n",
    "    \n",
    "    dv = DictVectorizer(sparse=False)\n",
    "    dicts_train = df_train.to_dict(orient='records')\n",
    "    X_train = dv.fit_transform(dicts_train)\n",
    "    \n",
    "    dicts_val = df_val.to_dict(orient='records')\n",
    "    X_val = dv.transform(dicts_val)\n",
    "    \n",
    "    \n",
    "    xgb_reg.fit(X_train, y_train)\n",
    "    #dtr.fit(X_train, np.log1p(y_train))\n",
    "    \n",
    "    y_pred = xgb_reg.predict(X_val)\n",
    "    #y_pred = np.expm1(y_pred)\n",
    "    \n",
    "    rmse = mean_squared_error(y_val, y_pred, squared=False)\n",
    "    \n",
    "    print(\"val_rmse: %f\" % rmse)\n",
    "    \n",
    "    return dv, xgb_reg"
   ]
  },
  {
   "cell_type": "code",
   "execution_count": 63,
   "id": "640e23c7",
   "metadata": {},
   "outputs": [
    {
     "name": "stdout",
     "output_type": "stream",
     "text": [
      "val_rmse: 543.363106\n"
     ]
    }
   ],
   "source": [
    "dv, xgb_reg = train_xgb_regressor(eta=0.16, max_depth=7)"
   ]
  },
  {
   "cell_type": "code",
   "execution_count": null,
   "id": "1de84d4e",
   "metadata": {},
   "outputs": [],
   "source": []
  },
  {
   "cell_type": "code",
   "execution_count": 64,
   "id": "26b33195",
   "metadata": {},
   "outputs": [],
   "source": [
    "# saving the model and dict Vecorizer\n",
    "with open('models/xgb_reg.bin', 'wb') as f_out:\n",
    "    pickle.dump((dv, xgb_reg), f_out)"
   ]
  },
  {
   "cell_type": "code",
   "execution_count": 67,
   "id": "4b07f682",
   "metadata": {},
   "outputs": [
    {
     "name": "stdout",
     "output_type": "stream",
     "text": [
      "1.2.2\n"
     ]
    }
   ],
   "source": [
    "\n",
    "print(sklearn.__version__)"
   ]
  },
  {
   "cell_type": "code",
   "execution_count": null,
   "id": "578864b8",
   "metadata": {},
   "outputs": [],
   "source": [
    "['eta', 'max_depth', 'leanrning_rate', 'n_estimators, min_child_weight', 'gamma', 'subsample', 'colsample_bytree',\n",
    "'reg_alpha', 'reg_lambda', 'random_state']"
   ]
  },
  {
   "cell_type": "code",
   "execution_count": 78,
   "id": "8f890b6d",
   "metadata": {},
   "outputs": [
    {
     "ename": "NameError",
     "evalue": "name 'trial' is not defined",
     "output_type": "error",
     "traceback": [
      "\u001b[0;31m---------------------------------------------------------------------------\u001b[0m",
      "\u001b[0;31mNameError\u001b[0m                                 Traceback (most recent call last)",
      "Cell \u001b[0;32mIn[78], line 2\u001b[0m\n\u001b[1;32m      1\u001b[0m param \u001b[38;5;241m=\u001b[39m {\n\u001b[0;32m----> 2\u001b[0m         \u001b[38;5;124m'\u001b[39m\u001b[38;5;124meta\u001b[39m\u001b[38;5;124m'\u001b[39m: \u001b[43mtrial\u001b[49m\u001b[38;5;241m.\u001b[39msuggest_float(\u001b[38;5;124m'\u001b[39m\u001b[38;5;124meta\u001b[39m\u001b[38;5;124m'\u001b[39m, \u001b[38;5;241m0.1\u001b[39m, \u001b[38;5;241m0.3\u001b[39m),\n\u001b[1;32m      3\u001b[0m         \u001b[38;5;124m'\u001b[39m\u001b[38;5;124mmax_depth\u001b[39m\u001b[38;5;124m'\u001b[39m: trial\u001b[38;5;241m.\u001b[39msuggest_int(\u001b[38;5;124m'\u001b[39m\u001b[38;5;124mmax_depth\u001b[39m\u001b[38;5;124m'\u001b[39m, \u001b[38;5;241m1\u001b[39m, \u001b[38;5;241m10\u001b[39m),\n\u001b[1;32m      4\u001b[0m         \u001b[38;5;124m'\u001b[39m\u001b[38;5;124mlearning_rate\u001b[39m\u001b[38;5;124m'\u001b[39m: trial\u001b[38;5;241m.\u001b[39msuggest_float(\u001b[38;5;124m'\u001b[39m\u001b[38;5;124mlearning_rate\u001b[39m\u001b[38;5;124m'\u001b[39m, \u001b[38;5;241m0.01\u001b[39m, \u001b[38;5;241m1.0\u001b[39m),\n\u001b[1;32m      5\u001b[0m         \u001b[38;5;124m'\u001b[39m\u001b[38;5;124mn_estimators\u001b[39m\u001b[38;5;124m'\u001b[39m: trial\u001b[38;5;241m.\u001b[39msuggest_int(\u001b[38;5;124m'\u001b[39m\u001b[38;5;124mn_estimators\u001b[39m\u001b[38;5;124m'\u001b[39m, \u001b[38;5;241m50\u001b[39m, \u001b[38;5;241m1000\u001b[39m),\n\u001b[1;32m      6\u001b[0m         \u001b[38;5;124m'\u001b[39m\u001b[38;5;124mmin_child_weight\u001b[39m\u001b[38;5;124m'\u001b[39m: trial\u001b[38;5;241m.\u001b[39msuggest_float(\u001b[38;5;124m'\u001b[39m\u001b[38;5;124mmin_child_weight\u001b[39m\u001b[38;5;124m'\u001b[39m, \u001b[38;5;241m0\u001b[39m, \u001b[38;5;241m2.5\u001b[39m),\n\u001b[1;32m      7\u001b[0m         \u001b[38;5;124m'\u001b[39m\u001b[38;5;124mgamma\u001b[39m\u001b[38;5;124m'\u001b[39m: trial\u001b[38;5;241m.\u001b[39msuggest_float(\u001b[38;5;124m'\u001b[39m\u001b[38;5;124mgamma\u001b[39m\u001b[38;5;124m'\u001b[39m, \u001b[38;5;241m0.01\u001b[39m, \u001b[38;5;241m1.0\u001b[39m),\n\u001b[1;32m      8\u001b[0m         \u001b[38;5;124m'\u001b[39m\u001b[38;5;124msubsample\u001b[39m\u001b[38;5;124m'\u001b[39m: trial\u001b[38;5;241m.\u001b[39msuggest_float(\u001b[38;5;124m'\u001b[39m\u001b[38;5;124msubsample\u001b[39m\u001b[38;5;124m'\u001b[39m, \u001b[38;5;241m0.01\u001b[39m, \u001b[38;5;241m1.0\u001b[39m),\n\u001b[1;32m      9\u001b[0m         \u001b[38;5;124m'\u001b[39m\u001b[38;5;124mcolsample_bytree\u001b[39m\u001b[38;5;124m'\u001b[39m: trial\u001b[38;5;241m.\u001b[39msuggest_float(\u001b[38;5;124m'\u001b[39m\u001b[38;5;124mcolsample_bytree\u001b[39m\u001b[38;5;124m'\u001b[39m, \u001b[38;5;241m0.01\u001b[39m, \u001b[38;5;241m1.0\u001b[39m),\n\u001b[1;32m     10\u001b[0m         \u001b[38;5;124m'\u001b[39m\u001b[38;5;124mreg_alpha\u001b[39m\u001b[38;5;124m'\u001b[39m: trial\u001b[38;5;241m.\u001b[39msuggest_float(\u001b[38;5;124m'\u001b[39m\u001b[38;5;124mreg_alpha\u001b[39m\u001b[38;5;124m'\u001b[39m, \u001b[38;5;241m0.01\u001b[39m, \u001b[38;5;241m1.0\u001b[39m),\n\u001b[1;32m     11\u001b[0m         \u001b[38;5;124m'\u001b[39m\u001b[38;5;124mreg_lambda\u001b[39m\u001b[38;5;124m'\u001b[39m: trial\u001b[38;5;241m.\u001b[39msuggest_float(\u001b[38;5;124m'\u001b[39m\u001b[38;5;124mreg_lambda\u001b[39m\u001b[38;5;124m'\u001b[39m, \u001b[38;5;241m0.01\u001b[39m, \u001b[38;5;241m1.0\u001b[39m),\n\u001b[1;32m     12\u001b[0m         \u001b[38;5;124m'\u001b[39m\u001b[38;5;124mrandom_state\u001b[39m\u001b[38;5;124m'\u001b[39m: trial\u001b[38;5;241m.\u001b[39msuggest_int(\u001b[38;5;124m'\u001b[39m\u001b[38;5;124mrandom_state\u001b[39m\u001b[38;5;124m'\u001b[39m, \u001b[38;5;241m1\u001b[39m, \u001b[38;5;241m1000\u001b[39m)\n\u001b[1;32m     13\u001b[0m     }\n",
      "\u001b[0;31mNameError\u001b[0m: name 'trial' is not defined"
     ]
    }
   ],
   "source": [
    "param = {\n",
    "        'eta': trial.suggest_float('eta', 0.1, 0.3),\n",
    "        'max_depth': trial.suggest_int('max_depth', 1, 10),\n",
    "        'learning_rate': trial.suggest_float('learning_rate', 0.01, 1.0),\n",
    "        'n_estimators': trial.suggest_int('n_estimators', 50, 1000),\n",
    "        'min_child_weight': trial.suggest_float('min_child_weight', 0, 2.5),\n",
    "        'gamma': trial.suggest_float('gamma', 0.01, 1.0),\n",
    "        'subsample': trial.suggest_float('subsample', 0.01, 1.0),\n",
    "        'colsample_bytree': trial.suggest_float('colsample_bytree', 0.01, 1.0),\n",
    "        'reg_alpha': trial.suggest_float('reg_alpha', 0.01, 1.0),\n",
    "        'reg_lambda': trial.suggest_float('reg_lambda', 0.01, 1.0),\n",
    "        'random_state': trial.suggest_int('random_state', 1, 1000)\n",
    "    }"
   ]
  },
  {
   "cell_type": "code",
   "execution_count": null,
   "id": "872e997e",
   "metadata": {},
   "outputs": [],
   "source": []
  }
 ],
 "metadata": {
  "kernelspec": {
   "display_name": "Python 3 (ipykernel)",
   "language": "python",
   "name": "python3"
  },
  "language_info": {
   "codemirror_mode": {
    "name": "ipython",
    "version": 3
   },
   "file_extension": ".py",
   "mimetype": "text/x-python",
   "name": "python",
   "nbconvert_exporter": "python",
   "pygments_lexer": "ipython3",
   "version": "3.10.12"
  }
 },
 "nbformat": 4,
 "nbformat_minor": 5
}
