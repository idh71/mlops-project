{
 "cells": [
  {
   "cell_type": "code",
   "execution_count": 107,
   "id": "3203f93a",
   "metadata": {},
   "outputs": [],
   "source": [
    "import pandas as pd\n",
    "import matplotlib.pyplot as plt"
   ]
  },
  {
   "cell_type": "code",
   "execution_count": 84,
   "id": "e94ec71d",
   "metadata": {},
   "outputs": [],
   "source": [
    "df = pd.read_csv(\"./Austin_Animal_Center_Outcomes.csv\")"
   ]
  },
  {
   "cell_type": "code",
   "execution_count": 92,
   "id": "7bf996fb",
   "metadata": {},
   "outputs": [
    {
     "data": {
      "text/html": [
       "<div>\n",
       "<style scoped>\n",
       "    .dataframe tbody tr th:only-of-type {\n",
       "        vertical-align: middle;\n",
       "    }\n",
       "\n",
       "    .dataframe tbody tr th {\n",
       "        vertical-align: top;\n",
       "    }\n",
       "\n",
       "    .dataframe thead th {\n",
       "        text-align: right;\n",
       "    }\n",
       "</style>\n",
       "<table border=\"1\" class=\"dataframe\">\n",
       "  <thead>\n",
       "    <tr style=\"text-align: right;\">\n",
       "      <th></th>\n",
       "      <th>animal_id</th>\n",
       "      <th>name</th>\n",
       "      <th>datetime</th>\n",
       "      <th>monthyear</th>\n",
       "      <th>date_of_birth</th>\n",
       "      <th>outcome_type</th>\n",
       "      <th>outcome_subtype</th>\n",
       "      <th>animal_type</th>\n",
       "      <th>sex_upon_outcome</th>\n",
       "      <th>age_upon_outcome</th>\n",
       "      <th>breed</th>\n",
       "      <th>color</th>\n",
       "    </tr>\n",
       "  </thead>\n",
       "  <tbody>\n",
       "    <tr>\n",
       "      <th>0</th>\n",
       "      <td>a794011</td>\n",
       "      <td>chunk</td>\n",
       "      <td>2019-05-08 18:20:00</td>\n",
       "      <td>may_2019</td>\n",
       "      <td>2017-05-02</td>\n",
       "      <td>rto-adopt</td>\n",
       "      <td>NaN</td>\n",
       "      <td>cat</td>\n",
       "      <td>neutered_male</td>\n",
       "      <td>2_years</td>\n",
       "      <td>domestic_shorthair_mix</td>\n",
       "      <td>brown_tabby/white</td>\n",
       "    </tr>\n",
       "    <tr>\n",
       "      <th>1</th>\n",
       "      <td>a776359</td>\n",
       "      <td>gizmo</td>\n",
       "      <td>2018-07-18 16:02:00</td>\n",
       "      <td>jul_2018</td>\n",
       "      <td>2017-07-12</td>\n",
       "      <td>adoption</td>\n",
       "      <td>NaN</td>\n",
       "      <td>dog</td>\n",
       "      <td>neutered_male</td>\n",
       "      <td>1_year</td>\n",
       "      <td>chihuahua_shorthair_mix</td>\n",
       "      <td>white/brown</td>\n",
       "    </tr>\n",
       "    <tr>\n",
       "      <th>2</th>\n",
       "      <td>a821648</td>\n",
       "      <td>NaN</td>\n",
       "      <td>2020-08-16 11:38:00</td>\n",
       "      <td>aug_2020</td>\n",
       "      <td>2019-08-16</td>\n",
       "      <td>euthanasia</td>\n",
       "      <td>NaN</td>\n",
       "      <td>other</td>\n",
       "      <td>unknown</td>\n",
       "      <td>1_year</td>\n",
       "      <td>raccoon</td>\n",
       "      <td>gray</td>\n",
       "    </tr>\n",
       "    <tr>\n",
       "      <th>3</th>\n",
       "      <td>a720371</td>\n",
       "      <td>moose</td>\n",
       "      <td>2016-02-13 17:59:00</td>\n",
       "      <td>feb_2016</td>\n",
       "      <td>2015-10-08</td>\n",
       "      <td>adoption</td>\n",
       "      <td>NaN</td>\n",
       "      <td>dog</td>\n",
       "      <td>neutered_male</td>\n",
       "      <td>4_months</td>\n",
       "      <td>anatol_shepherd/labrador_retriever</td>\n",
       "      <td>buff</td>\n",
       "    </tr>\n",
       "    <tr>\n",
       "      <th>4</th>\n",
       "      <td>a674754</td>\n",
       "      <td>NaN</td>\n",
       "      <td>2014-03-18 11:47:00</td>\n",
       "      <td>mar_2014</td>\n",
       "      <td>2014-03-12</td>\n",
       "      <td>transfer</td>\n",
       "      <td>partner</td>\n",
       "      <td>cat</td>\n",
       "      <td>intact_male</td>\n",
       "      <td>6_days</td>\n",
       "      <td>domestic_shorthair_mix</td>\n",
       "      <td>orange_tabby</td>\n",
       "    </tr>\n",
       "  </tbody>\n",
       "</table>\n",
       "</div>"
      ],
      "text/plain": [
       "  animal_id   name            datetime monthyear date_of_birth outcome_type  \\\n",
       "0   a794011  chunk 2019-05-08 18:20:00  may_2019    2017-05-02    rto-adopt   \n",
       "1   a776359  gizmo 2018-07-18 16:02:00  jul_2018    2017-07-12     adoption   \n",
       "2   a821648    NaN 2020-08-16 11:38:00  aug_2020    2019-08-16   euthanasia   \n",
       "3   a720371  moose 2016-02-13 17:59:00  feb_2016    2015-10-08     adoption   \n",
       "4   a674754    NaN 2014-03-18 11:47:00  mar_2014    2014-03-12     transfer   \n",
       "\n",
       "  outcome_subtype animal_type sex_upon_outcome age_upon_outcome  \\\n",
       "0             NaN         cat    neutered_male          2_years   \n",
       "1             NaN         dog    neutered_male           1_year   \n",
       "2             NaN       other          unknown           1_year   \n",
       "3             NaN         dog    neutered_male         4_months   \n",
       "4         partner         cat      intact_male           6_days   \n",
       "\n",
       "                                breed              color  \n",
       "0              domestic_shorthair_mix  brown_tabby/white  \n",
       "1             chihuahua_shorthair_mix        white/brown  \n",
       "2                             raccoon               gray  \n",
       "3  anatol_shepherd/labrador_retriever               buff  \n",
       "4              domestic_shorthair_mix       orange_tabby  "
      ]
     },
     "execution_count": 92,
     "metadata": {},
     "output_type": "execute_result"
    }
   ],
   "source": [
    "df.head()"
   ]
  },
  {
   "cell_type": "code",
   "execution_count": 86,
   "id": "58c367ec",
   "metadata": {},
   "outputs": [],
   "source": [
    "df.columns = df.columns.str.replace(\" \", '_').str.lower()"
   ]
  },
  {
   "cell_type": "code",
   "execution_count": 87,
   "id": "7b43738f",
   "metadata": {},
   "outputs": [],
   "source": [
    "df['datetime'] =  pd.to_datetime(df['datetime'], errors='coerce')"
   ]
  },
  {
   "cell_type": "code",
   "execution_count": 88,
   "id": "3886d722",
   "metadata": {},
   "outputs": [],
   "source": [
    "df['date_of_birth'] =  pd.to_datetime(df['date_of_birth'], errors='coerce')"
   ]
  },
  {
   "cell_type": "code",
   "execution_count": 112,
   "id": "b3f132ef",
   "metadata": {},
   "outputs": [],
   "source": [
    "df['age'] = (df.datetime - df.date_of_birth).dt.total_seconds() / 60\n"
   ]
  },
  {
   "cell_type": "code",
   "execution_count": 113,
   "id": "4e2352b9",
   "metadata": {},
   "outputs": [
    {
     "data": {
      "text/html": [
       "<div>\n",
       "<style scoped>\n",
       "    .dataframe tbody tr th:only-of-type {\n",
       "        vertical-align: middle;\n",
       "    }\n",
       "\n",
       "    .dataframe tbody tr th {\n",
       "        vertical-align: top;\n",
       "    }\n",
       "\n",
       "    .dataframe thead th {\n",
       "        text-align: right;\n",
       "    }\n",
       "</style>\n",
       "<table border=\"1\" class=\"dataframe\">\n",
       "  <thead>\n",
       "    <tr style=\"text-align: right;\">\n",
       "      <th></th>\n",
       "      <th>animal_id</th>\n",
       "      <th>name</th>\n",
       "      <th>datetime</th>\n",
       "      <th>monthyear</th>\n",
       "      <th>date_of_birth</th>\n",
       "      <th>outcome_type</th>\n",
       "      <th>outcome_subtype</th>\n",
       "      <th>animal_type</th>\n",
       "      <th>sex_upon_outcome</th>\n",
       "      <th>age_upon_outcome</th>\n",
       "      <th>breed</th>\n",
       "      <th>color</th>\n",
       "      <th>age</th>\n",
       "    </tr>\n",
       "  </thead>\n",
       "  <tbody>\n",
       "    <tr>\n",
       "      <th>0</th>\n",
       "      <td>a794011</td>\n",
       "      <td>chunk</td>\n",
       "      <td>2019-05-08 18:20:00</td>\n",
       "      <td>may_2019</td>\n",
       "      <td>2017-05-02</td>\n",
       "      <td>rto-adopt</td>\n",
       "      <td>NaN</td>\n",
       "      <td>cat</td>\n",
       "      <td>neutered_male</td>\n",
       "      <td>2_years</td>\n",
       "      <td>domestic_shorthair_mix</td>\n",
       "      <td>brown_tabby/white</td>\n",
       "      <td>1060940.0</td>\n",
       "    </tr>\n",
       "    <tr>\n",
       "      <th>1</th>\n",
       "      <td>a776359</td>\n",
       "      <td>gizmo</td>\n",
       "      <td>2018-07-18 16:02:00</td>\n",
       "      <td>jul_2018</td>\n",
       "      <td>2017-07-12</td>\n",
       "      <td>adoption</td>\n",
       "      <td>NaN</td>\n",
       "      <td>dog</td>\n",
       "      <td>neutered_male</td>\n",
       "      <td>1_year</td>\n",
       "      <td>chihuahua_shorthair_mix</td>\n",
       "      <td>white/brown</td>\n",
       "      <td>535202.0</td>\n",
       "    </tr>\n",
       "    <tr>\n",
       "      <th>2</th>\n",
       "      <td>a821648</td>\n",
       "      <td>NaN</td>\n",
       "      <td>2020-08-16 11:38:00</td>\n",
       "      <td>aug_2020</td>\n",
       "      <td>2019-08-16</td>\n",
       "      <td>euthanasia</td>\n",
       "      <td>NaN</td>\n",
       "      <td>other</td>\n",
       "      <td>unknown</td>\n",
       "      <td>1_year</td>\n",
       "      <td>raccoon</td>\n",
       "      <td>gray</td>\n",
       "      <td>527738.0</td>\n",
       "    </tr>\n",
       "    <tr>\n",
       "      <th>3</th>\n",
       "      <td>a720371</td>\n",
       "      <td>moose</td>\n",
       "      <td>2016-02-13 17:59:00</td>\n",
       "      <td>feb_2016</td>\n",
       "      <td>2015-10-08</td>\n",
       "      <td>adoption</td>\n",
       "      <td>NaN</td>\n",
       "      <td>dog</td>\n",
       "      <td>neutered_male</td>\n",
       "      <td>4_months</td>\n",
       "      <td>anatol_shepherd/labrador_retriever</td>\n",
       "      <td>buff</td>\n",
       "      <td>185399.0</td>\n",
       "    </tr>\n",
       "    <tr>\n",
       "      <th>4</th>\n",
       "      <td>a674754</td>\n",
       "      <td>NaN</td>\n",
       "      <td>2014-03-18 11:47:00</td>\n",
       "      <td>mar_2014</td>\n",
       "      <td>2014-03-12</td>\n",
       "      <td>transfer</td>\n",
       "      <td>partner</td>\n",
       "      <td>cat</td>\n",
       "      <td>intact_male</td>\n",
       "      <td>6_days</td>\n",
       "      <td>domestic_shorthair_mix</td>\n",
       "      <td>orange_tabby</td>\n",
       "      <td>9347.0</td>\n",
       "    </tr>\n",
       "  </tbody>\n",
       "</table>\n",
       "</div>"
      ],
      "text/plain": [
       "  animal_id   name            datetime monthyear date_of_birth outcome_type  \\\n",
       "0   a794011  chunk 2019-05-08 18:20:00  may_2019    2017-05-02    rto-adopt   \n",
       "1   a776359  gizmo 2018-07-18 16:02:00  jul_2018    2017-07-12     adoption   \n",
       "2   a821648    NaN 2020-08-16 11:38:00  aug_2020    2019-08-16   euthanasia   \n",
       "3   a720371  moose 2016-02-13 17:59:00  feb_2016    2015-10-08     adoption   \n",
       "4   a674754    NaN 2014-03-18 11:47:00  mar_2014    2014-03-12     transfer   \n",
       "\n",
       "  outcome_subtype animal_type sex_upon_outcome age_upon_outcome  \\\n",
       "0             NaN         cat    neutered_male          2_years   \n",
       "1             NaN         dog    neutered_male           1_year   \n",
       "2             NaN       other          unknown           1_year   \n",
       "3             NaN         dog    neutered_male         4_months   \n",
       "4         partner         cat      intact_male           6_days   \n",
       "\n",
       "                                breed              color        age  \n",
       "0              domestic_shorthair_mix  brown_tabby/white  1060940.0  \n",
       "1             chihuahua_shorthair_mix        white/brown   535202.0  \n",
       "2                             raccoon               gray   527738.0  \n",
       "3  anatol_shepherd/labrador_retriever               buff   185399.0  \n",
       "4              domestic_shorthair_mix       orange_tabby     9347.0  "
      ]
     },
     "execution_count": 113,
     "metadata": {},
     "output_type": "execute_result"
    }
   ],
   "source": [
    "df.head()"
   ]
  },
  {
   "cell_type": "code",
   "execution_count": 114,
   "id": "3a1baa35",
   "metadata": {},
   "outputs": [
    {
     "data": {
      "text/plain": [
       "<AxesSubplot:>"
      ]
     },
     "execution_count": 114,
     "metadata": {},
     "output_type": "execute_result"
    },
    {
     "data": {
      "image/png": "[encoded data removed]",
      "text/plain": [
       "<Figure size 640x480 with 1 Axes>"
      ]
     },
     "metadata": {},
     "output_type": "display_data"
    }
   ],
   "source": [
    "df.age.hist()"
   ]
  },
  {
   "cell_type": "code",
   "execution_count": 117,
   "id": "c84762c7",
   "metadata": {},
   "outputs": [
    {
     "data": {
      "text/plain": [
       "Index(['animal_id', 'name', 'datetime', 'monthyear', 'date_of_birth',\n",
       "       'outcome_type', 'outcome_subtype', 'animal_type', 'sex_upon_outcome',\n",
       "       'age_upon_outcome', 'breed', 'color', 'age'],\n",
       "      dtype='object')"
      ]
     },
     "execution_count": 117,
     "metadata": {},
     "output_type": "execute_result"
    }
   ],
   "source": [
    "df.columns"
   ]
  },
  {
   "cell_type": "code",
   "execution_count": 122,
   "id": "6bcf5c80",
   "metadata": {},
   "outputs": [],
   "source": [
    "df_dogs = df.loc[df['animal_type'] == 'dog']"
   ]
  },
  {
   "cell_type": "code",
   "execution_count": 125,
   "id": "4872eaeb",
   "metadata": {},
   "outputs": [
    {
     "data": {
      "text/plain": [
       "adoption           41591\n",
       "return_to_owner    21506\n",
       "transfer           19024\n",
       "euthanasia          2007\n",
       "rto-adopt            819\n",
       "died                 347\n",
       "disposal              66\n",
       "missing               32\n",
       "stolen                 5\n",
       "Name: outcome_type, dtype: int64"
      ]
     },
     "execution_count": 125,
     "metadata": {},
     "output_type": "execute_result"
    }
   ],
   "source": [
    "df_dogs.outcome_type.value_counts()"
   ]
  },
  {
   "cell_type": "code",
   "execution_count": 96,
   "id": "76a2fe2a",
   "metadata": {},
   "outputs": [
    {
     "data": {
      "text/html": [
       "<div>\n",
       "<style scoped>\n",
       "    .dataframe tbody tr th:only-of-type {\n",
       "        vertical-align: middle;\n",
       "    }\n",
       "\n",
       "    .dataframe tbody tr th {\n",
       "        vertical-align: top;\n",
       "    }\n",
       "\n",
       "    .dataframe thead th {\n",
       "        text-align: right;\n",
       "    }\n",
       "</style>\n",
       "<table border=\"1\" class=\"dataframe\">\n",
       "  <thead>\n",
       "    <tr style=\"text-align: right;\">\n",
       "      <th></th>\n",
       "      <th>age</th>\n",
       "      <th>age_upon_outcome</th>\n",
       "    </tr>\n",
       "  </thead>\n",
       "  <tbody>\n",
       "    <tr>\n",
       "      <th>0</th>\n",
       "      <td>736 days 18:20:00</td>\n",
       "      <td>2_years</td>\n",
       "    </tr>\n",
       "    <tr>\n",
       "      <th>1</th>\n",
       "      <td>371 days 16:02:00</td>\n",
       "      <td>1_year</td>\n",
       "    </tr>\n",
       "    <tr>\n",
       "      <th>2</th>\n",
       "      <td>366 days 11:38:00</td>\n",
       "      <td>1_year</td>\n",
       "    </tr>\n",
       "    <tr>\n",
       "      <th>3</th>\n",
       "      <td>128 days 17:59:00</td>\n",
       "      <td>4_months</td>\n",
       "    </tr>\n",
       "    <tr>\n",
       "      <th>4</th>\n",
       "      <td>6 days 11:47:00</td>\n",
       "      <td>6_days</td>\n",
       "    </tr>\n",
       "    <tr>\n",
       "      <th>...</th>\n",
       "      <td>...</td>\n",
       "      <td>...</td>\n",
       "    </tr>\n",
       "    <tr>\n",
       "      <th>153342</th>\n",
       "      <td>3708 days 11:42:00</td>\n",
       "      <td>10_years</td>\n",
       "    </tr>\n",
       "    <tr>\n",
       "      <th>153343</th>\n",
       "      <td>397 days 15:39:00</td>\n",
       "      <td>1_year</td>\n",
       "    </tr>\n",
       "    <tr>\n",
       "      <th>153344</th>\n",
       "      <td>99 days 17:22:00</td>\n",
       "      <td>3_months</td>\n",
       "    </tr>\n",
       "    <tr>\n",
       "      <th>153345</th>\n",
       "      <td>107 days 14:13:00</td>\n",
       "      <td>3_months</td>\n",
       "    </tr>\n",
       "    <tr>\n",
       "      <th>153346</th>\n",
       "      <td>65 days 16:10:00</td>\n",
       "      <td>2_months</td>\n",
       "    </tr>\n",
       "  </tbody>\n",
       "</table>\n",
       "<p>153347 rows × 2 columns</p>\n",
       "</div>"
      ],
      "text/plain": [
       "                      age age_upon_outcome\n",
       "0       736 days 18:20:00          2_years\n",
       "1       371 days 16:02:00           1_year\n",
       "2       366 days 11:38:00           1_year\n",
       "3       128 days 17:59:00         4_months\n",
       "4         6 days 11:47:00           6_days\n",
       "...                   ...              ...\n",
       "153342 3708 days 11:42:00         10_years\n",
       "153343  397 days 15:39:00           1_year\n",
       "153344   99 days 17:22:00         3_months\n",
       "153345  107 days 14:13:00         3_months\n",
       "153346   65 days 16:10:00         2_months\n",
       "\n",
       "[153347 rows x 2 columns]"
      ]
     },
     "execution_count": 96,
     "metadata": {},
     "output_type": "execute_result"
    }
   ],
   "source": [
    "df[['age', 'age_upon_outcome']]"
   ]
  },
  {
   "cell_type": "code",
   "execution_count": 109,
   "id": "8524b762",
   "metadata": {},
   "outputs": [
    {
     "ename": "TypeError",
     "evalue": "The DType <class 'numpy.dtype[timedelta64]'> could not be promoted by <class 'numpy.dtype[float64]'>. This means that no common DType exists for the given inputs. For example they cannot be stored in a single array unless the dtype is `object`. The full list of DTypes is: (<class 'numpy.dtype[timedelta64]'>, <class 'numpy.dtype[float64]'>)",
     "output_type": "error",
     "traceback": [
      "\u001b[0;31m---------------------------------------------------------------------------\u001b[0m",
      "\u001b[0;31mTypeError\u001b[0m                                 Traceback (most recent call last)",
      "Input \u001b[0;32mIn [109]\u001b[0m, in \u001b[0;36m<cell line: 1>\u001b[0;34m()\u001b[0m\n\u001b[0;32m----> 1\u001b[0m \u001b[43mplt\u001b[49m\u001b[38;5;241;43m.\u001b[39;49m\u001b[43mhist\u001b[49m\u001b[43m(\u001b[49m\u001b[43mdf\u001b[49m\u001b[43m[\u001b[49m\u001b[38;5;124;43m'\u001b[39;49m\u001b[38;5;124;43mage\u001b[39;49m\u001b[38;5;124;43m'\u001b[39;49m\u001b[43m]\u001b[49m\u001b[43m,\u001b[49m\u001b[43m \u001b[49m\u001b[43mbins\u001b[49m\u001b[38;5;241;43m=\u001b[39;49m\u001b[38;5;241;43m50\u001b[39;49m\u001b[43m)\u001b[49m\n",
      "File \u001b[0;32m~/opt/anaconda3/lib/python3.9/site-packages/matplotlib/pyplot.py:2602\u001b[0m, in \u001b[0;36mhist\u001b[0;34m(x, bins, range, density, weights, cumulative, bottom, histtype, align, orientation, rwidth, log, color, label, stacked, data, **kwargs)\u001b[0m\n\u001b[1;32m   2596\u001b[0m \u001b[38;5;129m@_copy_docstring_and_deprecators\u001b[39m(Axes\u001b[38;5;241m.\u001b[39mhist)\n\u001b[1;32m   2597\u001b[0m \u001b[38;5;28;01mdef\u001b[39;00m \u001b[38;5;21mhist\u001b[39m(\n\u001b[1;32m   2598\u001b[0m         x, bins\u001b[38;5;241m=\u001b[39m\u001b[38;5;28;01mNone\u001b[39;00m, \u001b[38;5;28mrange\u001b[39m\u001b[38;5;241m=\u001b[39m\u001b[38;5;28;01mNone\u001b[39;00m, density\u001b[38;5;241m=\u001b[39m\u001b[38;5;28;01mFalse\u001b[39;00m, weights\u001b[38;5;241m=\u001b[39m\u001b[38;5;28;01mNone\u001b[39;00m,\n\u001b[1;32m   2599\u001b[0m         cumulative\u001b[38;5;241m=\u001b[39m\u001b[38;5;28;01mFalse\u001b[39;00m, bottom\u001b[38;5;241m=\u001b[39m\u001b[38;5;28;01mNone\u001b[39;00m, histtype\u001b[38;5;241m=\u001b[39m\u001b[38;5;124m'\u001b[39m\u001b[38;5;124mbar\u001b[39m\u001b[38;5;124m'\u001b[39m, align\u001b[38;5;241m=\u001b[39m\u001b[38;5;124m'\u001b[39m\u001b[38;5;124mmid\u001b[39m\u001b[38;5;124m'\u001b[39m,\n\u001b[1;32m   2600\u001b[0m         orientation\u001b[38;5;241m=\u001b[39m\u001b[38;5;124m'\u001b[39m\u001b[38;5;124mvertical\u001b[39m\u001b[38;5;124m'\u001b[39m, rwidth\u001b[38;5;241m=\u001b[39m\u001b[38;5;28;01mNone\u001b[39;00m, log\u001b[38;5;241m=\u001b[39m\u001b[38;5;28;01mFalse\u001b[39;00m, color\u001b[38;5;241m=\u001b[39m\u001b[38;5;28;01mNone\u001b[39;00m,\n\u001b[1;32m   2601\u001b[0m         label\u001b[38;5;241m=\u001b[39m\u001b[38;5;28;01mNone\u001b[39;00m, stacked\u001b[38;5;241m=\u001b[39m\u001b[38;5;28;01mFalse\u001b[39;00m, \u001b[38;5;241m*\u001b[39m, data\u001b[38;5;241m=\u001b[39m\u001b[38;5;28;01mNone\u001b[39;00m, \u001b[38;5;241m*\u001b[39m\u001b[38;5;241m*\u001b[39mkwargs):\n\u001b[0;32m-> 2602\u001b[0m     \u001b[38;5;28;01mreturn\u001b[39;00m \u001b[43mgca\u001b[49m\u001b[43m(\u001b[49m\u001b[43m)\u001b[49m\u001b[38;5;241;43m.\u001b[39;49m\u001b[43mhist\u001b[49m\u001b[43m(\u001b[49m\n\u001b[1;32m   2603\u001b[0m \u001b[43m        \u001b[49m\u001b[43mx\u001b[49m\u001b[43m,\u001b[49m\u001b[43m \u001b[49m\u001b[43mbins\u001b[49m\u001b[38;5;241;43m=\u001b[39;49m\u001b[43mbins\u001b[49m\u001b[43m,\u001b[49m\u001b[43m \u001b[49m\u001b[38;5;28;43mrange\u001b[39;49m\u001b[38;5;241;43m=\u001b[39;49m\u001b[38;5;28;43mrange\u001b[39;49m\u001b[43m,\u001b[49m\u001b[43m \u001b[49m\u001b[43mdensity\u001b[49m\u001b[38;5;241;43m=\u001b[39;49m\u001b[43mdensity\u001b[49m\u001b[43m,\u001b[49m\u001b[43m \u001b[49m\u001b[43mweights\u001b[49m\u001b[38;5;241;43m=\u001b[39;49m\u001b[43mweights\u001b[49m\u001b[43m,\u001b[49m\n\u001b[1;32m   2604\u001b[0m \u001b[43m        \u001b[49m\u001b[43mcumulative\u001b[49m\u001b[38;5;241;43m=\u001b[39;49m\u001b[43mcumulative\u001b[49m\u001b[43m,\u001b[49m\u001b[43m \u001b[49m\u001b[43mbottom\u001b[49m\u001b[38;5;241;43m=\u001b[39;49m\u001b[43mbottom\u001b[49m\u001b[43m,\u001b[49m\u001b[43m \u001b[49m\u001b[43mhisttype\u001b[49m\u001b[38;5;241;43m=\u001b[39;49m\u001b[43mhisttype\u001b[49m\u001b[43m,\u001b[49m\n\u001b[1;32m   2605\u001b[0m \u001b[43m        \u001b[49m\u001b[43malign\u001b[49m\u001b[38;5;241;43m=\u001b[39;49m\u001b[43malign\u001b[49m\u001b[43m,\u001b[49m\u001b[43m \u001b[49m\u001b[43morientation\u001b[49m\u001b[38;5;241;43m=\u001b[39;49m\u001b[43morientation\u001b[49m\u001b[43m,\u001b[49m\u001b[43m \u001b[49m\u001b[43mrwidth\u001b[49m\u001b[38;5;241;43m=\u001b[39;49m\u001b[43mrwidth\u001b[49m\u001b[43m,\u001b[49m\u001b[43m \u001b[49m\u001b[43mlog\u001b[49m\u001b[38;5;241;43m=\u001b[39;49m\u001b[43mlog\u001b[49m\u001b[43m,\u001b[49m\n\u001b[1;32m   2606\u001b[0m \u001b[43m        \u001b[49m\u001b[43mcolor\u001b[49m\u001b[38;5;241;43m=\u001b[39;49m\u001b[43mcolor\u001b[49m\u001b[43m,\u001b[49m\u001b[43m \u001b[49m\u001b[43mlabel\u001b[49m\u001b[38;5;241;43m=\u001b[39;49m\u001b[43mlabel\u001b[49m\u001b[43m,\u001b[49m\u001b[43m \u001b[49m\u001b[43mstacked\u001b[49m\u001b[38;5;241;43m=\u001b[39;49m\u001b[43mstacked\u001b[49m\u001b[43m,\u001b[49m\n\u001b[1;32m   2607\u001b[0m \u001b[43m        \u001b[49m\u001b[38;5;241;43m*\u001b[39;49m\u001b[38;5;241;43m*\u001b[39;49m\u001b[43m(\u001b[49m\u001b[43m{\u001b[49m\u001b[38;5;124;43m\"\u001b[39;49m\u001b[38;5;124;43mdata\u001b[39;49m\u001b[38;5;124;43m\"\u001b[39;49m\u001b[43m:\u001b[49m\u001b[43m \u001b[49m\u001b[43mdata\u001b[49m\u001b[43m}\u001b[49m\u001b[43m \u001b[49m\u001b[38;5;28;43;01mif\u001b[39;49;00m\u001b[43m \u001b[49m\u001b[43mdata\u001b[49m\u001b[43m \u001b[49m\u001b[38;5;129;43;01mis\u001b[39;49;00m\u001b[43m \u001b[49m\u001b[38;5;129;43;01mnot\u001b[39;49;00m\u001b[43m \u001b[49m\u001b[38;5;28;43;01mNone\u001b[39;49;00m\u001b[43m \u001b[49m\u001b[38;5;28;43;01melse\u001b[39;49;00m\u001b[43m \u001b[49m\u001b[43m{\u001b[49m\u001b[43m}\u001b[49m\u001b[43m)\u001b[49m\u001b[43m,\u001b[49m\u001b[43m \u001b[49m\u001b[38;5;241;43m*\u001b[39;49m\u001b[38;5;241;43m*\u001b[39;49m\u001b[43mkwargs\u001b[49m\u001b[43m)\u001b[49m\n",
      "File \u001b[0;32m~/opt/anaconda3/lib/python3.9/site-packages/matplotlib/__init__.py:1412\u001b[0m, in \u001b[0;36m_preprocess_data.<locals>.inner\u001b[0;34m(ax, data, *args, **kwargs)\u001b[0m\n\u001b[1;32m   1409\u001b[0m \u001b[38;5;129m@functools\u001b[39m\u001b[38;5;241m.\u001b[39mwraps(func)\n\u001b[1;32m   1410\u001b[0m \u001b[38;5;28;01mdef\u001b[39;00m \u001b[38;5;21minner\u001b[39m(ax, \u001b[38;5;241m*\u001b[39margs, data\u001b[38;5;241m=\u001b[39m\u001b[38;5;28;01mNone\u001b[39;00m, \u001b[38;5;241m*\u001b[39m\u001b[38;5;241m*\u001b[39mkwargs):\n\u001b[1;32m   1411\u001b[0m     \u001b[38;5;28;01mif\u001b[39;00m data \u001b[38;5;129;01mis\u001b[39;00m \u001b[38;5;28;01mNone\u001b[39;00m:\n\u001b[0;32m-> 1412\u001b[0m         \u001b[38;5;28;01mreturn\u001b[39;00m \u001b[43mfunc\u001b[49m\u001b[43m(\u001b[49m\u001b[43max\u001b[49m\u001b[43m,\u001b[49m\u001b[43m \u001b[49m\u001b[38;5;241;43m*\u001b[39;49m\u001b[38;5;28;43mmap\u001b[39;49m\u001b[43m(\u001b[49m\u001b[43msanitize_sequence\u001b[49m\u001b[43m,\u001b[49m\u001b[43m \u001b[49m\u001b[43margs\u001b[49m\u001b[43m)\u001b[49m\u001b[43m,\u001b[49m\u001b[43m \u001b[49m\u001b[38;5;241;43m*\u001b[39;49m\u001b[38;5;241;43m*\u001b[39;49m\u001b[43mkwargs\u001b[49m\u001b[43m)\u001b[49m\n\u001b[1;32m   1414\u001b[0m     bound \u001b[38;5;241m=\u001b[39m new_sig\u001b[38;5;241m.\u001b[39mbind(ax, \u001b[38;5;241m*\u001b[39margs, \u001b[38;5;241m*\u001b[39m\u001b[38;5;241m*\u001b[39mkwargs)\n\u001b[1;32m   1415\u001b[0m     auto_label \u001b[38;5;241m=\u001b[39m (bound\u001b[38;5;241m.\u001b[39marguments\u001b[38;5;241m.\u001b[39mget(label_namer)\n\u001b[1;32m   1416\u001b[0m                   \u001b[38;5;129;01mor\u001b[39;00m bound\u001b[38;5;241m.\u001b[39mkwargs\u001b[38;5;241m.\u001b[39mget(label_namer))\n",
      "File \u001b[0;32m~/opt/anaconda3/lib/python3.9/site-packages/matplotlib/axes/_axes.py:6607\u001b[0m, in \u001b[0;36mAxes.hist\u001b[0;34m(self, x, bins, range, density, weights, cumulative, bottom, histtype, align, orientation, rwidth, log, color, label, stacked, **kwargs)\u001b[0m\n\u001b[1;32m   6603\u001b[0m \u001b[38;5;28;01mfor\u001b[39;00m xi \u001b[38;5;129;01min\u001b[39;00m x:\n\u001b[1;32m   6604\u001b[0m     \u001b[38;5;28;01mif\u001b[39;00m \u001b[38;5;28mlen\u001b[39m(xi):\n\u001b[1;32m   6605\u001b[0m         \u001b[38;5;66;03m# python's min/max ignore nan,\u001b[39;00m\n\u001b[1;32m   6606\u001b[0m         \u001b[38;5;66;03m# np.minnan returns nan for all nan input\u001b[39;00m\n\u001b[0;32m-> 6607\u001b[0m         xmin \u001b[38;5;241m=\u001b[39m \u001b[38;5;28;43mmin\u001b[39;49m\u001b[43m(\u001b[49m\u001b[43mxmin\u001b[49m\u001b[43m,\u001b[49m\u001b[43m \u001b[49m\u001b[43mnp\u001b[49m\u001b[38;5;241;43m.\u001b[39;49m\u001b[43mnanmin\u001b[49m\u001b[43m(\u001b[49m\u001b[43mxi\u001b[49m\u001b[43m)\u001b[49m\u001b[43m)\u001b[49m\n\u001b[1;32m   6608\u001b[0m         xmax \u001b[38;5;241m=\u001b[39m \u001b[38;5;28mmax\u001b[39m(xmax, np\u001b[38;5;241m.\u001b[39mnanmax(xi))\n\u001b[1;32m   6609\u001b[0m \u001b[38;5;28;01mif\u001b[39;00m xmin \u001b[38;5;241m<\u001b[39m\u001b[38;5;241m=\u001b[39m xmax:  \u001b[38;5;66;03m# Only happens if we have seen a finite value.\u001b[39;00m\n",
      "\u001b[0;31mTypeError\u001b[0m: The DType <class 'numpy.dtype[timedelta64]'> could not be promoted by <class 'numpy.dtype[float64]'>. This means that no common DType exists for the given inputs. For example they cannot be stored in a single array unless the dtype is `object`. The full list of DTypes is: (<class 'numpy.dtype[timedelta64]'>, <class 'numpy.dtype[float64]'>)"
     ]
    },
    {
     "data": {
      "image/png": "[encoded data removed]",
      "text/plain": [
       "<Figure size 640x480 with 1 Axes>"
      ]
     },
     "metadata": {},
     "output_type": "display_data"
    }
   ],
   "source": [
    "plt.hist(df['age'], bins=50)"
   ]
  },
  {
   "cell_type": "code",
   "execution_count": 93,
   "id": "890a39e1",
   "metadata": {},
   "outputs": [
    {
     "data": {
      "text/plain": [
       "animal_id                   object\n",
       "name                        object\n",
       "datetime            datetime64[ns]\n",
       "monthyear                   object\n",
       "date_of_birth       datetime64[ns]\n",
       "outcome_type                object\n",
       "outcome_subtype             object\n",
       "animal_type                 object\n",
       "sex_upon_outcome            object\n",
       "age_upon_outcome            object\n",
       "breed                       object\n",
       "color                       object\n",
       "dtype: object"
      ]
     },
     "execution_count": 93,
     "metadata": {},
     "output_type": "execute_result"
    }
   ],
   "source": [
    "df.dtypes"
   ]
  },
  {
   "cell_type": "code",
   "execution_count": 90,
   "id": "17ac2f86",
   "metadata": {},
   "outputs": [],
   "source": [
    "for c in df.columns:\n",
    "    if df[c].dtype == 'object':\n",
    "        df[c] = df[c].str.replace(\" \", \"_\").str.lower()"
   ]
  },
  {
   "cell_type": "code",
   "execution_count": 91,
   "id": "55c7ed39",
   "metadata": {},
   "outputs": [
    {
     "data": {
      "text/plain": [
       "animal_id               0\n",
       "name                44301\n",
       "datetime                0\n",
       "monthyear               0\n",
       "date_of_birth           0\n",
       "outcome_type           28\n",
       "outcome_subtype     82767\n",
       "animal_type             0\n",
       "sex_upon_outcome        2\n",
       "age_upon_outcome       40\n",
       "breed                   0\n",
       "color                   0\n",
       "dtype: int64"
      ]
     },
     "execution_count": 91,
     "metadata": {},
     "output_type": "execute_result"
    }
   ],
   "source": [
    "df.isnull().sum()"
   ]
  },
  {
   "cell_type": "code",
   "execution_count": 77,
   "id": "4bf5ff4d",
   "metadata": {},
   "outputs": [],
   "source": [
    "df['date_of_birth'] =  pd.to_datetime(df['date_of_birth'], errors='coerce')"
   ]
  },
  {
   "cell_type": "code",
   "execution_count": 81,
   "id": "799368a8",
   "metadata": {},
   "outputs": [],
   "source": [
    "df['datetime'] =  pd.to_datetime(df['datetime'], errors='coerce')"
   ]
  },
  {
   "cell_type": "code",
   "execution_count": 82,
   "id": "fe553360",
   "metadata": {},
   "outputs": [
    {
     "data": {
      "text/plain": [
       "animal_id                0\n",
       "name                 44301\n",
       "datetime            153347\n",
       "monthyear                0\n",
       "date_of_birth            0\n",
       "outcome_type            28\n",
       "outcome_subtype      82767\n",
       "animal_type              0\n",
       "sex_upon_outcome         2\n",
       "age_upon_outcome        40\n",
       "breed                    0\n",
       "color                    0\n",
       "dtype: int64"
      ]
     },
     "execution_count": 82,
     "metadata": {},
     "output_type": "execute_result"
    }
   ],
   "source": [
    "df.isnull().sum()"
   ]
  },
  {
   "cell_type": "code",
   "execution_count": 80,
   "id": "818e52c0",
   "metadata": {},
   "outputs": [
    {
     "data": {
      "text/plain": [
       "animal_id                   object\n",
       "name                        object\n",
       "datetime                    object\n",
       "monthyear                   object\n",
       "date_of_birth       datetime64[ns]\n",
       "outcome_type                object\n",
       "outcome_subtype             object\n",
       "animal_type                 object\n",
       "sex_upon_outcome            object\n",
       "age_upon_outcome            object\n",
       "breed                       object\n",
       "color                       object\n",
       "dtype: object"
      ]
     },
     "execution_count": 80,
     "metadata": {},
     "output_type": "execute_result"
    }
   ],
   "source": [
    "df.dtypes"
   ]
  },
  {
   "cell_type": "code",
   "execution_count": 56,
   "id": "bde64678",
   "metadata": {},
   "outputs": [],
   "source": [
    "df_sorted = df.sort_values(by='datetime')"
   ]
  },
  {
   "cell_type": "code",
   "execution_count": 62,
   "id": "1d37ccdf",
   "metadata": {},
   "outputs": [
    {
     "ename": "AttributeError",
     "evalue": "'float' object has no attribute 'lower'",
     "output_type": "error",
     "traceback": [
      "\u001b[0;31m---------------------------------------------------------------------------\u001b[0m",
      "\u001b[0;31mAttributeError\u001b[0m                            Traceback (most recent call last)",
      "Input \u001b[0;32mIn [62]\u001b[0m, in \u001b[0;36m<cell line: 1>\u001b[0;34m()\u001b[0m\n\u001b[0;32m----> 1\u001b[0m df \u001b[38;5;241m=\u001b[39m \u001b[43mdf\u001b[49m\u001b[38;5;241;43m.\u001b[39;49m\u001b[43mapplymap\u001b[49m\u001b[43m(\u001b[49m\u001b[38;5;28;43;01mlambda\u001b[39;49;00m\u001b[43m \u001b[49m\u001b[43mx\u001b[49m\u001b[43m:\u001b[49m\u001b[43m \u001b[49m\u001b[43mx\u001b[49m\u001b[38;5;241;43m.\u001b[39;49m\u001b[43mlower\u001b[49m\u001b[43m(\u001b[49m\u001b[43m)\u001b[49m\u001b[38;5;241;43m.\u001b[39;49m\u001b[43mreplace\u001b[49m\u001b[43m(\u001b[49m\u001b[38;5;124;43m'\u001b[39;49m\u001b[38;5;124;43m \u001b[39;49m\u001b[38;5;124;43m'\u001b[39;49m\u001b[43m,\u001b[49m\u001b[43m \u001b[49m\u001b[38;5;124;43m'\u001b[39;49m\u001b[38;5;124;43m_\u001b[39;49m\u001b[38;5;124;43m'\u001b[39;49m\u001b[43m)\u001b[49m\u001b[43m)\u001b[49m\n",
      "File \u001b[0;32m~/opt/anaconda3/lib/python3.9/site-packages/pandas/core/frame.py:8933\u001b[0m, in \u001b[0;36mDataFrame.applymap\u001b[0;34m(self, func, na_action, **kwargs)\u001b[0m\n\u001b[1;32m   8930\u001b[0m         \u001b[38;5;28;01mreturn\u001b[39;00m lib\u001b[38;5;241m.\u001b[39mmap_infer(x, func, ignore_na\u001b[38;5;241m=\u001b[39mignore_na)\n\u001b[1;32m   8931\u001b[0m     \u001b[38;5;28;01mreturn\u001b[39;00m lib\u001b[38;5;241m.\u001b[39mmap_infer(x\u001b[38;5;241m.\u001b[39mastype(\u001b[38;5;28mobject\u001b[39m)\u001b[38;5;241m.\u001b[39m_values, func, ignore_na\u001b[38;5;241m=\u001b[39mignore_na)\n\u001b[0;32m-> 8933\u001b[0m \u001b[38;5;28;01mreturn\u001b[39;00m \u001b[38;5;28;43mself\u001b[39;49m\u001b[38;5;241;43m.\u001b[39;49m\u001b[43mapply\u001b[49m\u001b[43m(\u001b[49m\u001b[43minfer\u001b[49m\u001b[43m)\u001b[49m\u001b[38;5;241m.\u001b[39m__finalize__(\u001b[38;5;28mself\u001b[39m, \u001b[38;5;124m\"\u001b[39m\u001b[38;5;124mapplymap\u001b[39m\u001b[38;5;124m\"\u001b[39m)\n",
      "File \u001b[0;32m~/opt/anaconda3/lib/python3.9/site-packages/pandas/core/frame.py:8848\u001b[0m, in \u001b[0;36mDataFrame.apply\u001b[0;34m(self, func, axis, raw, result_type, args, **kwargs)\u001b[0m\n\u001b[1;32m   8837\u001b[0m \u001b[38;5;28;01mfrom\u001b[39;00m \u001b[38;5;21;01mpandas\u001b[39;00m\u001b[38;5;21;01m.\u001b[39;00m\u001b[38;5;21;01mcore\u001b[39;00m\u001b[38;5;21;01m.\u001b[39;00m\u001b[38;5;21;01mapply\u001b[39;00m \u001b[38;5;28;01mimport\u001b[39;00m frame_apply\n\u001b[1;32m   8839\u001b[0m op \u001b[38;5;241m=\u001b[39m frame_apply(\n\u001b[1;32m   8840\u001b[0m     \u001b[38;5;28mself\u001b[39m,\n\u001b[1;32m   8841\u001b[0m     func\u001b[38;5;241m=\u001b[39mfunc,\n\u001b[0;32m   (...)\u001b[0m\n\u001b[1;32m   8846\u001b[0m     kwargs\u001b[38;5;241m=\u001b[39mkwargs,\n\u001b[1;32m   8847\u001b[0m )\n\u001b[0;32m-> 8848\u001b[0m \u001b[38;5;28;01mreturn\u001b[39;00m \u001b[43mop\u001b[49m\u001b[38;5;241;43m.\u001b[39;49m\u001b[43mapply\u001b[49m\u001b[43m(\u001b[49m\u001b[43m)\u001b[49m\u001b[38;5;241m.\u001b[39m__finalize__(\u001b[38;5;28mself\u001b[39m, method\u001b[38;5;241m=\u001b[39m\u001b[38;5;124m\"\u001b[39m\u001b[38;5;124mapply\u001b[39m\u001b[38;5;124m\"\u001b[39m)\n",
      "File \u001b[0;32m~/opt/anaconda3/lib/python3.9/site-packages/pandas/core/apply.py:733\u001b[0m, in \u001b[0;36mFrameApply.apply\u001b[0;34m(self)\u001b[0m\n\u001b[1;32m    730\u001b[0m \u001b[38;5;28;01melif\u001b[39;00m \u001b[38;5;28mself\u001b[39m\u001b[38;5;241m.\u001b[39mraw:\n\u001b[1;32m    731\u001b[0m     \u001b[38;5;28;01mreturn\u001b[39;00m \u001b[38;5;28mself\u001b[39m\u001b[38;5;241m.\u001b[39mapply_raw()\n\u001b[0;32m--> 733\u001b[0m \u001b[38;5;28;01mreturn\u001b[39;00m \u001b[38;5;28;43mself\u001b[39;49m\u001b[38;5;241;43m.\u001b[39;49m\u001b[43mapply_standard\u001b[49m\u001b[43m(\u001b[49m\u001b[43m)\u001b[49m\n",
      "File \u001b[0;32m~/opt/anaconda3/lib/python3.9/site-packages/pandas/core/apply.py:857\u001b[0m, in \u001b[0;36mFrameApply.apply_standard\u001b[0;34m(self)\u001b[0m\n\u001b[1;32m    856\u001b[0m \u001b[38;5;28;01mdef\u001b[39;00m \u001b[38;5;21mapply_standard\u001b[39m(\u001b[38;5;28mself\u001b[39m):\n\u001b[0;32m--> 857\u001b[0m     results, res_index \u001b[38;5;241m=\u001b[39m \u001b[38;5;28;43mself\u001b[39;49m\u001b[38;5;241;43m.\u001b[39;49m\u001b[43mapply_series_generator\u001b[49m\u001b[43m(\u001b[49m\u001b[43m)\u001b[49m\n\u001b[1;32m    859\u001b[0m     \u001b[38;5;66;03m# wrap results\u001b[39;00m\n\u001b[1;32m    860\u001b[0m     \u001b[38;5;28;01mreturn\u001b[39;00m \u001b[38;5;28mself\u001b[39m\u001b[38;5;241m.\u001b[39mwrap_results(results, res_index)\n",
      "File \u001b[0;32m~/opt/anaconda3/lib/python3.9/site-packages/pandas/core/apply.py:873\u001b[0m, in \u001b[0;36mFrameApply.apply_series_generator\u001b[0;34m(self)\u001b[0m\n\u001b[1;32m    870\u001b[0m \u001b[38;5;28;01mwith\u001b[39;00m option_context(\u001b[38;5;124m\"\u001b[39m\u001b[38;5;124mmode.chained_assignment\u001b[39m\u001b[38;5;124m\"\u001b[39m, \u001b[38;5;28;01mNone\u001b[39;00m):\n\u001b[1;32m    871\u001b[0m     \u001b[38;5;28;01mfor\u001b[39;00m i, v \u001b[38;5;129;01min\u001b[39;00m \u001b[38;5;28menumerate\u001b[39m(series_gen):\n\u001b[1;32m    872\u001b[0m         \u001b[38;5;66;03m# ignore SettingWithCopy here in case the user mutates\u001b[39;00m\n\u001b[0;32m--> 873\u001b[0m         results[i] \u001b[38;5;241m=\u001b[39m \u001b[38;5;28;43mself\u001b[39;49m\u001b[38;5;241;43m.\u001b[39;49m\u001b[43mf\u001b[49m\u001b[43m(\u001b[49m\u001b[43mv\u001b[49m\u001b[43m)\u001b[49m\n\u001b[1;32m    874\u001b[0m         \u001b[38;5;28;01mif\u001b[39;00m \u001b[38;5;28misinstance\u001b[39m(results[i], ABCSeries):\n\u001b[1;32m    875\u001b[0m             \u001b[38;5;66;03m# If we have a view on v, we need to make a copy because\u001b[39;00m\n\u001b[1;32m    876\u001b[0m             \u001b[38;5;66;03m#  series_generator will swap out the underlying data\u001b[39;00m\n\u001b[1;32m    877\u001b[0m             results[i] \u001b[38;5;241m=\u001b[39m results[i]\u001b[38;5;241m.\u001b[39mcopy(deep\u001b[38;5;241m=\u001b[39m\u001b[38;5;28;01mFalse\u001b[39;00m)\n",
      "File \u001b[0;32m~/opt/anaconda3/lib/python3.9/site-packages/pandas/core/frame.py:8931\u001b[0m, in \u001b[0;36mDataFrame.applymap.<locals>.infer\u001b[0;34m(x)\u001b[0m\n\u001b[1;32m   8929\u001b[0m \u001b[38;5;28;01mif\u001b[39;00m x\u001b[38;5;241m.\u001b[39mempty:\n\u001b[1;32m   8930\u001b[0m     \u001b[38;5;28;01mreturn\u001b[39;00m lib\u001b[38;5;241m.\u001b[39mmap_infer(x, func, ignore_na\u001b[38;5;241m=\u001b[39mignore_na)\n\u001b[0;32m-> 8931\u001b[0m \u001b[38;5;28;01mreturn\u001b[39;00m \u001b[43mlib\u001b[49m\u001b[38;5;241;43m.\u001b[39;49m\u001b[43mmap_infer\u001b[49m\u001b[43m(\u001b[49m\u001b[43mx\u001b[49m\u001b[38;5;241;43m.\u001b[39;49m\u001b[43mastype\u001b[49m\u001b[43m(\u001b[49m\u001b[38;5;28;43mobject\u001b[39;49m\u001b[43m)\u001b[49m\u001b[38;5;241;43m.\u001b[39;49m\u001b[43m_values\u001b[49m\u001b[43m,\u001b[49m\u001b[43m \u001b[49m\u001b[43mfunc\u001b[49m\u001b[43m,\u001b[49m\u001b[43m \u001b[49m\u001b[43mignore_na\u001b[49m\u001b[38;5;241;43m=\u001b[39;49m\u001b[43mignore_na\u001b[49m\u001b[43m)\u001b[49m\n",
      "File \u001b[0;32m~/opt/anaconda3/lib/python3.9/site-packages/pandas/_libs/lib.pyx:2870\u001b[0m, in \u001b[0;36mpandas._libs.lib.map_infer\u001b[0;34m()\u001b[0m\n",
      "Input \u001b[0;32mIn [62]\u001b[0m, in \u001b[0;36m<lambda>\u001b[0;34m(x)\u001b[0m\n\u001b[0;32m----> 1\u001b[0m df \u001b[38;5;241m=\u001b[39m df\u001b[38;5;241m.\u001b[39mapplymap(\u001b[38;5;28;01mlambda\u001b[39;00m x: \u001b[43mx\u001b[49m\u001b[38;5;241;43m.\u001b[39;49m\u001b[43mlower\u001b[49m()\u001b[38;5;241m.\u001b[39mreplace(\u001b[38;5;124m'\u001b[39m\u001b[38;5;124m \u001b[39m\u001b[38;5;124m'\u001b[39m, \u001b[38;5;124m'\u001b[39m\u001b[38;5;124m_\u001b[39m\u001b[38;5;124m'\u001b[39m))\n",
      "\u001b[0;31mAttributeError\u001b[0m: 'float' object has no attribute 'lower'"
     ]
    }
   ],
   "source": [
    "df = df.applymap(lambda x: x.lower().replace(' ', '_'))"
   ]
  },
  {
   "cell_type": "code",
   "execution_count": 58,
   "id": "7999dba8",
   "metadata": {},
   "outputs": [
    {
     "data": {
      "text/plain": [
       "dtype('O')"
      ]
     },
     "execution_count": 58,
     "metadata": {},
     "output_type": "execute_result"
    }
   ],
   "source": [
    "df.datetime.dtype"
   ]
  },
  {
   "cell_type": "code",
   "execution_count": 59,
   "id": "e64b6bb7",
   "metadata": {},
   "outputs": [],
   "source": [
    "df['datetime'] = pd.to_datetime(df['datetime'], errors='coerce')"
   ]
  },
  {
   "cell_type": "code",
   "execution_count": 60,
   "id": "3de86862",
   "metadata": {},
   "outputs": [
    {
     "data": {
      "text/plain": [
       "animal_id                   object\n",
       "name                        object\n",
       "datetime            datetime64[ns]\n",
       "monthyear                   object\n",
       "date_of_birth               object\n",
       "outcome_type                object\n",
       "outcome_subtype             object\n",
       "animal_type                 object\n",
       "sex_upon_outcome            object\n",
       "age_upon_outcome            object\n",
       "breed                       object\n",
       "color                       object\n",
       "dtype: object"
      ]
     },
     "execution_count": 60,
     "metadata": {},
     "output_type": "execute_result"
    }
   ],
   "source": [
    "df.dtypes"
   ]
  },
  {
   "cell_type": "code",
   "execution_count": 61,
   "id": "4646810c",
   "metadata": {},
   "outputs": [
    {
     "data": {
      "text/plain": [
       "animal_id               0\n",
       "name                44301\n",
       "datetime                0\n",
       "monthyear               0\n",
       "date_of_birth           0\n",
       "outcome_type           28\n",
       "outcome_subtype     82767\n",
       "animal_type             0\n",
       "sex_upon_outcome        2\n",
       "age_upon_outcome       40\n",
       "breed                   0\n",
       "color                   0\n",
       "dtype: int64"
      ]
     },
     "execution_count": 61,
     "metadata": {},
     "output_type": "execute_result"
    }
   ],
   "source": [
    "df.isnull().sum()"
   ]
  },
  {
   "cell_type": "code",
   "execution_count": 57,
   "id": "bb1a56bc",
   "metadata": {},
   "outputs": [
    {
     "data": {
      "text/html": [
       "<div>\n",
       "<style scoped>\n",
       "    .dataframe tbody tr th:only-of-type {\n",
       "        vertical-align: middle;\n",
       "    }\n",
       "\n",
       "    .dataframe tbody tr th {\n",
       "        vertical-align: top;\n",
       "    }\n",
       "\n",
       "    .dataframe thead th {\n",
       "        text-align: right;\n",
       "    }\n",
       "</style>\n",
       "<table border=\"1\" class=\"dataframe\">\n",
       "  <thead>\n",
       "    <tr style=\"text-align: right;\">\n",
       "      <th></th>\n",
       "      <th>animal_id</th>\n",
       "      <th>name</th>\n",
       "      <th>datetime</th>\n",
       "      <th>monthyear</th>\n",
       "      <th>date_of_birth</th>\n",
       "      <th>outcome_type</th>\n",
       "      <th>outcome_subtype</th>\n",
       "      <th>animal_type</th>\n",
       "      <th>sex_upon_outcome</th>\n",
       "      <th>age_upon_outcome</th>\n",
       "      <th>breed</th>\n",
       "      <th>color</th>\n",
       "    </tr>\n",
       "  </thead>\n",
       "  <tbody>\n",
       "    <tr>\n",
       "      <th>107270</th>\n",
       "      <td>A669926</td>\n",
       "      <td>NaN</td>\n",
       "      <td>01/01/2014 01:00:00 PM</td>\n",
       "      <td>Jan 2014</td>\n",
       "      <td>05/30/2013</td>\n",
       "      <td>Transfer</td>\n",
       "      <td>Partner</td>\n",
       "      <td>Dog</td>\n",
       "      <td>Intact Female</td>\n",
       "      <td>7 months</td>\n",
       "      <td>Plott Hound/Black/Tan Hound</td>\n",
       "      <td>Brown/Tan</td>\n",
       "    </tr>\n",
       "    <tr>\n",
       "      <th>42930</th>\n",
       "      <td>A670044</td>\n",
       "      <td>NaN</td>\n",
       "      <td>01/01/2014 01:13:00 PM</td>\n",
       "      <td>Jan 2014</td>\n",
       "      <td>01/01/2011</td>\n",
       "      <td>Euthanasia</td>\n",
       "      <td>Suffering</td>\n",
       "      <td>Cat</td>\n",
       "      <td>Intact Male</td>\n",
       "      <td>3 years</td>\n",
       "      <td>Domestic Shorthair Mix</td>\n",
       "      <td>Blue</td>\n",
       "    </tr>\n",
       "    <tr>\n",
       "      <th>117402</th>\n",
       "      <td>A668314</td>\n",
       "      <td>Duke</td>\n",
       "      <td>01/01/2014 01:30:00 PM</td>\n",
       "      <td>Jan 2014</td>\n",
       "      <td>12/02/2012</td>\n",
       "      <td>Transfer</td>\n",
       "      <td>Partner</td>\n",
       "      <td>Dog</td>\n",
       "      <td>Neutered Male</td>\n",
       "      <td>1 year</td>\n",
       "      <td>Labrador Retriever Mix</td>\n",
       "      <td>Chocolate/White</td>\n",
       "    </tr>\n",
       "    <tr>\n",
       "      <th>89624</th>\n",
       "      <td>A666770</td>\n",
       "      <td>Josh</td>\n",
       "      <td>01/01/2014 01:32:00 PM</td>\n",
       "      <td>Jan 2014</td>\n",
       "      <td>11/07/2010</td>\n",
       "      <td>Adoption</td>\n",
       "      <td>NaN</td>\n",
       "      <td>Dog</td>\n",
       "      <td>Neutered Male</td>\n",
       "      <td>3 years</td>\n",
       "      <td>Siberian Husky Mix</td>\n",
       "      <td>Black/Brown</td>\n",
       "    </tr>\n",
       "    <tr>\n",
       "      <th>77144</th>\n",
       "      <td>A668337</td>\n",
       "      <td>*Tony</td>\n",
       "      <td>01/01/2014 01:42:00 PM</td>\n",
       "      <td>Jan 2014</td>\n",
       "      <td>12/02/2012</td>\n",
       "      <td>Euthanasia</td>\n",
       "      <td>Behavior</td>\n",
       "      <td>Dog</td>\n",
       "      <td>Intact Male</td>\n",
       "      <td>1 year</td>\n",
       "      <td>Pit Bull Mix</td>\n",
       "      <td>Brown Brindle/White</td>\n",
       "    </tr>\n",
       "  </tbody>\n",
       "</table>\n",
       "</div>"
      ],
      "text/plain": [
       "       animal_id   name                datetime monthyear date_of_birth  \\\n",
       "107270   A669926    NaN  01/01/2014 01:00:00 PM  Jan 2014    05/30/2013   \n",
       "42930    A670044    NaN  01/01/2014 01:13:00 PM  Jan 2014    01/01/2011   \n",
       "117402   A668314   Duke  01/01/2014 01:30:00 PM  Jan 2014    12/02/2012   \n",
       "89624    A666770   Josh  01/01/2014 01:32:00 PM  Jan 2014    11/07/2010   \n",
       "77144    A668337  *Tony  01/01/2014 01:42:00 PM  Jan 2014    12/02/2012   \n",
       "\n",
       "       outcome_type outcome_subtype animal_type sex_upon_outcome  \\\n",
       "107270     Transfer         Partner         Dog    Intact Female   \n",
       "42930    Euthanasia       Suffering         Cat      Intact Male   \n",
       "117402     Transfer         Partner         Dog    Neutered Male   \n",
       "89624      Adoption             NaN         Dog    Neutered Male   \n",
       "77144    Euthanasia        Behavior         Dog      Intact Male   \n",
       "\n",
       "       age_upon_outcome                        breed                color  \n",
       "107270         7 months  Plott Hound/Black/Tan Hound            Brown/Tan  \n",
       "42930           3 years       Domestic Shorthair Mix                 Blue  \n",
       "117402           1 year       Labrador Retriever Mix      Chocolate/White  \n",
       "89624           3 years           Siberian Husky Mix          Black/Brown  \n",
       "77144            1 year                 Pit Bull Mix  Brown Brindle/White  "
      ]
     },
     "execution_count": 57,
     "metadata": {},
     "output_type": "execute_result"
    }
   ],
   "source": [
    "df_sorted.head()"
   ]
  },
  {
   "cell_type": "code",
   "execution_count": 14,
   "id": "04b42d93",
   "metadata": {},
   "outputs": [],
   "source": [
    "df.columns = df.columns.str.replace(' ', '_').str.lower()"
   ]
  },
  {
   "cell_type": "code",
   "execution_count": 15,
   "id": "4e8fce2e",
   "metadata": {},
   "outputs": [
    {
     "data": {
      "text/plain": [
       "Index(['animal_id', 'name', 'datetime', 'monthyear', 'date_of_birth',\n",
       "       'outcome_type', 'outcome_subtype', 'animal_type', 'sex_upon_outcome',\n",
       "       'age_upon_outcome', 'breed', 'color'],\n",
       "      dtype='object')"
      ]
     },
     "execution_count": 15,
     "metadata": {},
     "output_type": "execute_result"
    }
   ],
   "source": [
    "df.columns"
   ]
  },
  {
   "cell_type": "code",
   "execution_count": 26,
   "id": "544de5eb",
   "metadata": {},
   "outputs": [
    {
     "data": {
      "text/plain": [
       "Domestic Shorthair Mix                   33446\n",
       "Domestic Shorthair                       15312\n",
       "Pit Bull Mix                              9547\n",
       "Labrador Retriever Mix                    8027\n",
       "Chihuahua Shorthair Mix                   6735\n",
       "                                         ...  \n",
       "Dogue De Bordeaux Mix                       21\n",
       "Feist Mix                                   21\n",
       "Chihuahua Shorthair/Italian Greyhound       21\n",
       "Cane Corso Mix                              21\n",
       "Mouse                                       21\n",
       "Name: breed, Length: 373, dtype: int64"
      ]
     },
     "execution_count": 26,
     "metadata": {},
     "output_type": "execute_result"
    }
   ],
   "source": [
    "df.breed.value_counts().loc[df.breed.value_counts() > 20]"
   ]
  },
  {
   "cell_type": "code",
   "execution_count": 55,
   "id": "eeafbaf2",
   "metadata": {},
   "outputs": [
    {
     "data": {
      "text/plain": [
       "'Skunk'"
      ]
     },
     "execution_count": 55,
     "metadata": {},
     "output_type": "execute_result"
    }
   ],
   "source": [
    "df[df.animal_type == 'Other']['breed'].value_counts().iloc[9:10].index[0]"
   ]
  },
  {
   "cell_type": "code",
   "execution_count": 35,
   "id": "dac534c0",
   "metadata": {},
   "outputs": [
    {
     "data": {
      "text/plain": [
       "Bat                            0.245411\n",
       "Bat Mix                        0.216336\n",
       "Raccoon                        0.087101\n",
       "Raccoon Mix                    0.066404\n",
       "Guinea Pig                     0.052113\n",
       "                                 ...   \n",
       "Deer Mix                       0.000123\n",
       "Britannia Petit Mix            0.000123\n",
       "Chinchilla-Stnd                0.000123\n",
       "Polish Mix                     0.000123\n",
       "New Zealand Wht/Lop-Holland    0.000123\n",
       "Name: breed, Length: 131, dtype: float64"
      ]
     },
     "execution_count": 35,
     "metadata": {},
     "output_type": "execute_result"
    }
   ],
   "source": [
    "df[df.animal_type == 'Other']['breed'].value_counts()"
   ]
  },
  {
   "cell_type": "code",
   "execution_count": 10,
   "id": "6397dbbe",
   "metadata": {},
   "outputs": [],
   "source": [
    "df.columns = [to_snake_case(col) for col in df.columns]"
   ]
  },
  {
   "cell_type": "code",
   "execution_count": 11,
   "id": "a80b9cfd",
   "metadata": {},
   "outputs": [
    {
     "data": {
      "text/html": [
       "<div>\n",
       "<style scoped>\n",
       "    .dataframe tbody tr th:only-of-type {\n",
       "        vertical-align: middle;\n",
       "    }\n",
       "\n",
       "    .dataframe tbody tr th {\n",
       "        vertical-align: top;\n",
       "    }\n",
       "\n",
       "    .dataframe thead th {\n",
       "        text-align: right;\n",
       "    }\n",
       "</style>\n",
       "<table border=\"1\" class=\"dataframe\">\n",
       "  <thead>\n",
       "    <tr style=\"text-align: right;\">\n",
       "      <th></th>\n",
       "      <th>animal _i_d</th>\n",
       "      <th>name</th>\n",
       "      <th>date_time</th>\n",
       "      <th>month_year</th>\n",
       "      <th>date of _birth</th>\n",
       "      <th>outcome _type</th>\n",
       "      <th>outcome _subtype</th>\n",
       "      <th>animal _type</th>\n",
       "      <th>sex upon _outcome</th>\n",
       "      <th>age upon _outcome</th>\n",
       "      <th>breed</th>\n",
       "      <th>color</th>\n",
       "    </tr>\n",
       "  </thead>\n",
       "  <tbody>\n",
       "    <tr>\n",
       "      <th>0</th>\n",
       "      <td>A794011</td>\n",
       "      <td>Chunk</td>\n",
       "      <td>05/08/2019 06:20:00 PM</td>\n",
       "      <td>May 2019</td>\n",
       "      <td>05/02/2017</td>\n",
       "      <td>Rto-Adopt</td>\n",
       "      <td>NaN</td>\n",
       "      <td>Cat</td>\n",
       "      <td>Neutered Male</td>\n",
       "      <td>2 years</td>\n",
       "      <td>Domestic Shorthair Mix</td>\n",
       "      <td>Brown Tabby/White</td>\n",
       "    </tr>\n",
       "    <tr>\n",
       "      <th>1</th>\n",
       "      <td>A776359</td>\n",
       "      <td>Gizmo</td>\n",
       "      <td>07/18/2018 04:02:00 PM</td>\n",
       "      <td>Jul 2018</td>\n",
       "      <td>07/12/2017</td>\n",
       "      <td>Adoption</td>\n",
       "      <td>NaN</td>\n",
       "      <td>Dog</td>\n",
       "      <td>Neutered Male</td>\n",
       "      <td>1 year</td>\n",
       "      <td>Chihuahua Shorthair Mix</td>\n",
       "      <td>White/Brown</td>\n",
       "    </tr>\n",
       "    <tr>\n",
       "      <th>2</th>\n",
       "      <td>A821648</td>\n",
       "      <td>NaN</td>\n",
       "      <td>08/16/2020 11:38:00 AM</td>\n",
       "      <td>Aug 2020</td>\n",
       "      <td>08/16/2019</td>\n",
       "      <td>Euthanasia</td>\n",
       "      <td>NaN</td>\n",
       "      <td>Other</td>\n",
       "      <td>Unknown</td>\n",
       "      <td>1 year</td>\n",
       "      <td>Raccoon</td>\n",
       "      <td>Gray</td>\n",
       "    </tr>\n",
       "    <tr>\n",
       "      <th>3</th>\n",
       "      <td>A720371</td>\n",
       "      <td>Moose</td>\n",
       "      <td>02/13/2016 05:59:00 PM</td>\n",
       "      <td>Feb 2016</td>\n",
       "      <td>10/08/2015</td>\n",
       "      <td>Adoption</td>\n",
       "      <td>NaN</td>\n",
       "      <td>Dog</td>\n",
       "      <td>Neutered Male</td>\n",
       "      <td>4 months</td>\n",
       "      <td>Anatol Shepherd/Labrador Retriever</td>\n",
       "      <td>Buff</td>\n",
       "    </tr>\n",
       "    <tr>\n",
       "      <th>4</th>\n",
       "      <td>A674754</td>\n",
       "      <td>NaN</td>\n",
       "      <td>03/18/2014 11:47:00 AM</td>\n",
       "      <td>Mar 2014</td>\n",
       "      <td>03/12/2014</td>\n",
       "      <td>Transfer</td>\n",
       "      <td>Partner</td>\n",
       "      <td>Cat</td>\n",
       "      <td>Intact Male</td>\n",
       "      <td>6 days</td>\n",
       "      <td>Domestic Shorthair Mix</td>\n",
       "      <td>Orange Tabby</td>\n",
       "    </tr>\n",
       "  </tbody>\n",
       "</table>\n",
       "</div>"
      ],
      "text/plain": [
       "  animal _i_d   name               date_time month_year date of _birth  \\\n",
       "0     A794011  Chunk  05/08/2019 06:20:00 PM   May 2019     05/02/2017   \n",
       "1     A776359  Gizmo  07/18/2018 04:02:00 PM   Jul 2018     07/12/2017   \n",
       "2     A821648    NaN  08/16/2020 11:38:00 AM   Aug 2020     08/16/2019   \n",
       "3     A720371  Moose  02/13/2016 05:59:00 PM   Feb 2016     10/08/2015   \n",
       "4     A674754    NaN  03/18/2014 11:47:00 AM   Mar 2014     03/12/2014   \n",
       "\n",
       "  outcome _type outcome _subtype animal _type sex upon _outcome  \\\n",
       "0     Rto-Adopt              NaN          Cat     Neutered Male   \n",
       "1      Adoption              NaN          Dog     Neutered Male   \n",
       "2    Euthanasia              NaN        Other           Unknown   \n",
       "3      Adoption              NaN          Dog     Neutered Male   \n",
       "4      Transfer          Partner          Cat       Intact Male   \n",
       "\n",
       "  age upon _outcome                               breed              color  \n",
       "0           2 years              Domestic Shorthair Mix  Brown Tabby/White  \n",
       "1            1 year             Chihuahua Shorthair Mix        White/Brown  \n",
       "2            1 year                             Raccoon               Gray  \n",
       "3          4 months  Anatol Shepherd/Labrador Retriever               Buff  \n",
       "4            6 days              Domestic Shorthair Mix       Orange Tabby  "
      ]
     },
     "execution_count": 11,
     "metadata": {},
     "output_type": "execute_result"
    }
   ],
   "source": [
    "df.head()"
   ]
  },
  {
   "cell_type": "code",
   "execution_count": null,
   "id": "d40fbb9f",
   "metadata": {},
   "outputs": [],
   "source": []
  }
 ],
 "metadata": {
  "kernelspec": {
   "display_name": "Python 3 (ipykernel)",
   "language": "python",
   "name": "python3"
  },
  "language_info": {
   "codemirror_mode": {
    "name": "ipython",
    "version": 3
   },
   "file_extension": ".py",
   "mimetype": "text/x-python",
   "name": "python",
   "nbconvert_exporter": "python",
   "pygments_lexer": "ipython3",
   "version": "3.9.13"
  }
 },
 "nbformat": 4,
 "nbformat_minor": 5
}
